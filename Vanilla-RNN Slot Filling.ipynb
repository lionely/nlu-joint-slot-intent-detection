{
 "cells": [
  {
   "cell_type": "code",
   "execution_count": 1,
   "metadata": {},
   "outputs": [],
   "source": [
    "from utils import *\n",
    "from sklearn.manifold import TSNE\n",
    "from datetime import datetime\n",
    "import time\n",
    "import math"
   ]
  },
  {
   "cell_type": "code",
   "execution_count": 2,
   "metadata": {},
   "outputs": [],
   "source": [
    "#pretty plot\n",
    "#sns.set_style(\"darkgrid\")\n",
    "a4_dims = (11.7,11.7)\n",
    "sns.set_context(\"paper\", font_scale = 1.5, rc={\"lines.linewidth\":2.5})"
   ]
  },
  {
   "cell_type": "markdown",
   "metadata": {},
   "source": [
    "# Current TODOs\n",
    "* Figure out why even though the loss can get to a magnitude of 0.01 the F-Score for slots is still bad\n",
    "* it was an issue with not cutting off the prediction after the <EOS> token is outputted. But ask Shilad about the batch size issue which affects the scoring with topk(). I think if its more than one batch pytorch picks the last element of the batch.\n",
    "    \n",
    "*** Issue is simply because when batching we get [batch , seq len] in one seq the smallest number should be <eos> but when batch size is >1 we have multiple batches together so value for <eos> occurs later than normal messing up evaluation. To get correct evaluation use batch_size =1 ***\n"
   ]
  },
  {
   "cell_type": "code",
   "execution_count": 3,
   "metadata": {},
   "outputs": [],
   "source": [
    "MAX_LENGTH = 50\n",
    "device = torch.device('cuda' if torch.cuda.is_available() else 'cpu')"
   ]
  },
  {
   "cell_type": "markdown",
   "metadata": {},
   "source": [
    "## Reading the Data In"
   ]
  },
  {
   "cell_type": "code",
   "execution_count": 4,
   "metadata": {},
   "outputs": [],
   "source": [
    "with open('data/preprocessed/fold_train.json', 'r') as f:\n",
    "    atis_json = json.load(f)"
   ]
  },
  {
   "cell_type": "markdown",
   "metadata": {},
   "source": [
    "# Data Preprocessing"
   ]
  },
  {
   "cell_type": "code",
   "execution_count": 5,
   "metadata": {},
   "outputs": [],
   "source": [
    "def flatten(list_of_lists):\n",
    "    \"\"\"Flattens from two-dimensional list to one-dimensional list\"\"\"\n",
    "    return [item for sublist in list_of_lists for item in sublist]"
   ]
  },
  {
   "cell_type": "code",
   "execution_count": 6,
   "metadata": {},
   "outputs": [],
   "source": [
    "def adjust_sequences(data, length=MAX_LENGTH):\n",
    "    \"\"\"\n",
    "    Fixes the input and output sequences length, adding padding or truncating if necessary\n",
    "    :param data json file containing entries from atis dataset.\n",
    "    :param length the fixed length of the sentence.\n",
    "    \"\"\"\n",
    "    for sample in data['data']:\n",
    "        # adjust the sequence of input words\n",
    "        if len(sample['words']) < length:\n",
    "            # add <EOS> and <PAD> if sentence is shorter than maximum length\n",
    "            sample['words'].append('<EOS>')\n",
    "            while len(sample['words']) < length:\n",
    "                sample['words'].append('<PAD>')\n",
    "        else:\n",
    "            # otherwise truncate and add <EOS> at last position\n",
    "            sample['words'] = sample['words'][:length]\n",
    "            sample['words'][-1] = '<EOS>'\n",
    "\n",
    "        # adjust in the same way the sequence of output slots\n",
    "        if len(sample['slots']) < length:\n",
    "            sample['slots'].append('<EOS>')\n",
    "            while len(sample['slots']) < length:\n",
    "                sample['slots'].append('<PAD>')\n",
    "        else:\n",
    "            sample['slots'] = sample['slots'][:length]\n",
    "            sample['slots'][-1] = '<EOS>'\n",
    "\n",
    "    return data"
   ]
  },
  {
   "cell_type": "code",
   "execution_count": 7,
   "metadata": {},
   "outputs": [],
   "source": [
    "def get_vocabularies(train_data):\n",
    "    \"\"\"\n",
    "    Collect the input vocabulary, the slot vocabulary and the intent vocabulary\n",
    "    :param train_data the training data containing words,slots and intent.\n",
    "    \"\"\"\n",
    "    # from a list of training examples, get three lists (columns)\n",
    "    data = train_data['data']\n",
    "    seq_in = [sample['words'] for sample in data]\n",
    "    vocab = flatten(seq_in)\n",
    "    # removing duplicated but keeping the order\n",
    "    v = ['<PAD>', '<SOS>', '<EOS>'] + vocab\n",
    "    vocab = sorted(set(v), key=lambda x: v.index(x)) # https://docs.python.org/3.3/howto/sorting.html\n",
    "    s = ['<PAD>', '<SOS>', '<EOS>'] + train_data['meta']['slot_types']\n",
    "    slot_tag = sorted(set(s), key=lambda x: s.index(x))\n",
    "    i = train_data['meta']['intent_types']\n",
    "    intent_tag = sorted(set(i), key=lambda x: i.index(x))\n",
    "\n",
    "    return vocab, slot_tag, intent_tag"
   ]
  },
  {
   "cell_type": "code",
   "execution_count": 8,
   "metadata": {},
   "outputs": [],
   "source": [
    "adjusted_atis = adjust_sequences(atis_json)#padded"
   ]
  },
  {
   "cell_type": "code",
   "execution_count": 9,
   "metadata": {},
   "outputs": [],
   "source": [
    "atis_vocab,atis_slots,atis_intents = get_vocabularies(adjusted_atis)"
   ]
  },
  {
   "cell_type": "code",
   "execution_count": 10,
   "metadata": {},
   "outputs": [
    {
     "data": {
      "text/plain": [
       "(870, 123, 21)"
      ]
     },
     "execution_count": 10,
     "metadata": {},
     "output_type": "execute_result"
    }
   ],
   "source": [
    "len(atis_vocab),len(atis_slots),len(atis_intents)"
   ]
  },
  {
   "cell_type": "markdown",
   "metadata": {},
   "source": [
    "# Next we map the data and set it up for Pytorch\n",
    "Remember each vocabulary for each sentence, slot and intent will have different embeddings. They are different sized vectors. The Network will try to figure out a mapping from these different vector spaces."
   ]
  },
  {
   "cell_type": "code",
   "execution_count": 11,
   "metadata": {},
   "outputs": [],
   "source": [
    "def create_mappings(vocab,forward_map,intent=False):\n",
    "    \"\"\"\n",
    "    This function takes the words in the vocabulary and creates a unique mapping to a number.\n",
    "    :param vocab contains all the words in the corpus.\n",
    "    :param forward_map a dictionary that will be populated with mappings.\n",
    "    returns populated forward_map\n",
    "    \"\"\"\n",
    "    for sample in vocab:\n",
    "        if not intent and sample not in forward_map.keys():\n",
    "            forward_map[sample]= len(forward_map)\n",
    "        elif intent:\n",
    "            forward_map[sample]= len(forward_map)#+1# this so we can use 1 loss function\n",
    "            \n",
    "    return forward_map"
   ]
  },
  {
   "cell_type": "code",
   "execution_count": 12,
   "metadata": {},
   "outputs": [],
   "source": [
    "word2index = {'<PAD>': 0, '<UNK>':1,'<SOS>':2,'<EOS>':3}\n",
    "create_mappings(atis_vocab,word2index)\n",
    "index2word = {v:k for k,v in word2index.items()}"
   ]
  },
  {
   "cell_type": "code",
   "execution_count": 13,
   "metadata": {},
   "outputs": [],
   "source": [
    "tag2index = {'<PAD>' : 0,'<UNK>':1,'<SOS>':2,'<EOS>':3}\n",
    "create_mappings(atis_slots,tag2index)\n",
    "index2tag = {v:k for k,v in tag2index.items()}"
   ]
  },
  {
   "cell_type": "code",
   "execution_count": 14,
   "metadata": {},
   "outputs": [],
   "source": [
    "intent2index={}\n",
    "create_mappings(atis_intents,intent2index,intent=True)\n",
    "index2intent = {v:k for k,v in intent2index.items()}"
   ]
  },
  {
   "cell_type": "code",
   "execution_count": 15,
   "metadata": {},
   "outputs": [
    {
     "data": {
      "text/plain": [
       "21"
      ]
     },
     "execution_count": 15,
     "metadata": {},
     "output_type": "execute_result"
    }
   ],
   "source": [
    "len(word2index)\n",
    "len(intent2index)\n",
    "#word2index\n",
    "#index2intent"
   ]
  },
  {
   "cell_type": "markdown",
   "metadata": {},
   "source": [
    "### Next we create a Tensor where each row is a mapped/embedded sequence"
   ]
  },
  {
   "cell_type": "code",
   "execution_count": 16,
   "metadata": {},
   "outputs": [],
   "source": [
    "def prepare_sequence(seq_data, mapping,map_type):\n",
    "    \"\"\"\n",
    "    :param seq a sequnce which will be embedded as a vector\n",
    "    :param mapping, a dictionary which contains how each element in the seq will be mapped to a number.\n",
    "    :param map_type 'words','slots' or 'intent'\n",
    "    returns a Pytorch Tensor.\n",
    "    \"\"\"\n",
    "    if map_type=='intent':\n",
    "        intent = seq_data[map_type]\n",
    "        embeddings = mapping[intent] if intent in mapping.keys() else -1 #mapping[\"<UNK>\"]\n",
    "        return torch.tensor(embeddings)   \n",
    "    else:\n",
    "        embed_fnc = lambda word: mapping[word] if word in mapping.keys() else mapping['<UNK>']\n",
    "        embeddings = list(map(embed_fnc, seq_data[map_type])) \n",
    "        return torch.LongTensor(embeddings)"
   ]
  },
  {
   "cell_type": "code",
   "execution_count": 17,
   "metadata": {},
   "outputs": [],
   "source": [
    "def create_training_set(padded_atis):\n",
    "    \"\"\"\n",
    "    :param padded_atis, this is padded sequence data.\n",
    "           Of the form seq,slots,intent. This function coverts \n",
    "           these into tensors.\n",
    "    return train_data; [(seq_tensor,slot_tensor,intent_tensor)]\n",
    "    \"\"\"\n",
    "    train_data = []\n",
    "    atis_data = padded_atis['data']\n",
    "    for i in range(len(atis_data)):\n",
    "        seq_tensor = prepare_sequence(atis_data[i],word2index,'words')\n",
    "        slot_tensor = prepare_sequence(atis_data[i],tag2index,'slots')\n",
    "        intent_tensor = prepare_sequence(atis_data[i],intent2index,'intent')\n",
    "        train_data.append((seq_tensor,slot_tensor,intent_tensor))\n",
    "    return train_data"
   ]
  },
  {
   "cell_type": "code",
   "execution_count": 18,
   "metadata": {},
   "outputs": [],
   "source": [
    "train_data = create_training_set(adjusted_atis)"
   ]
  },
  {
   "cell_type": "markdown",
   "metadata": {},
   "source": [
    "## Batching the data"
   ]
  },
  {
   "cell_type": "code",
   "execution_count": 19,
   "metadata": {},
   "outputs": [],
   "source": [
    "def concatenate_batch(batch):\n",
    "#     print(len(batch), len(batch[0]))\n",
    "    #     print([ex[0] for ex in batch])\n",
    "    seqs = torch.stack([ex[0] for ex in batch])\n",
    "    slots = torch.stack([ex[1] for ex in batch])\n",
    "    intents = torch.stack([ex[2] for ex in batch])\n",
    "   \n",
    "    return seqs,slots,intents"
   ]
  },
  {
   "cell_type": "code",
   "execution_count": 20,
   "metadata": {},
   "outputs": [],
   "source": [
    "def get_batches(batch_size, train_data):\n",
    "    \"\"\"\n",
    "    Returns iteratively a batch of specified size on the data. \n",
    "    The last batch can be smaller if the total size is not multiple of the batch\n",
    "    \"\"\"\n",
    "    random.shuffle(train_data)\n",
    "    sindex = 0\n",
    "    eindex = batch_size\n",
    "    while sindex < len(train_data):\n",
    "        batch = train_data[sindex:eindex] #list of batch_size num of tuples.\n",
    "        temp = eindex\n",
    "        eindex = eindex + batch_size\n",
    "        sindex = temp\n",
    "        #print('returning', len(batch), 'samples')\n",
    "        yield concatenate_batch(batch)"
   ]
  },
  {
   "cell_type": "markdown",
   "metadata": {},
   "source": [
    "# Building Joint-RNN Model\n",
    "---Ignore---\n",
    "\n",
    "Will use encoder-decoer model because of:\n",
    "Sutskever, Ilya, Oriol Vinyals, and Quoc V. Le. \"Sequence to sequence learning with neural networks.\" Advances in neural information processing systems. 2014.\n",
    "\n",
    "i) one for the input sequence and another for the output sequence, because doing\n",
    "so increases the number model parameters at negligible computational cost and makes it natural to\n",
    "train the LSTMon multiple language pairs simultaneously \n",
    "\n",
    "ii) deep LSTMs significantly outperformed shallow LSTMs, so we chose an LSTM with four layers. \n",
    "\n",
    "iii) valuable to reverse the order of the words of the input sentence. \n",
    "\n",
    "---Ignore---"
   ]
  },
  {
   "cell_type": "code",
   "execution_count": 21,
   "metadata": {},
   "outputs": [],
   "source": [
    "class Encoder(nn.Module):\n",
    "    \"\"\"\n",
    "    An encoder/decoder that\n",
    "    takes a batch of sequences embeds the sequence and\n",
    "    then runs it through a fully connected layer to predict slots and intent.\n",
    "    \"\"\"\n",
    "    def __init__(self,input_dim,hidden_dim,emb_dim,slot_dim,intent_dim):\n",
    "        super(Encoder, self).__init__()\n",
    "        self.input_dim = input_dim\n",
    "        self.emb_dim = emb_dim\n",
    "        self.hidden_dim = hidden_dim\n",
    "       \n",
    "        self.slot_dim = slot_dim\n",
    "        self.intent_dim = intent_dim\n",
    "       \n",
    "        self.embedding = nn.Embedding(input_dim, emb_dim)\n",
    "        self.rnn = nn.RNN(emb_dim, hidden_dim,batch_first=True)\n",
    "        \n",
    "        self.slot_fc = nn.Linear(hidden_dim,slot_dim)\n",
    "        self.intent_fc = nn.Linear(hidden_dim,intent_dim)\n",
    "        \n",
    "    def forward(self,src):\n",
    "        #src [seq len,batch size] -> [seq len, batch size, emb_dim]\n",
    "        embedded_seq = self.embedding(src)\n",
    "        outputs, hidden = self.rnn(embedded_seq)\n",
    "        outputs = outputs.contiguous().view(-1,self.emb_dim)\n",
    "   \n",
    "        slot_space = self.slot_fc(outputs)\n",
    "        slot_scores = slot_space\n",
    "\n",
    "        intent_space = self.intent_fc(hidden)\n",
    "        intent_scores = intent_space\n",
    "\n",
    "        return slot_scores, intent_scores, hidden"
   ]
  },
  {
   "cell_type": "code",
   "execution_count": null,
   "metadata": {},
   "outputs": [],
   "source": [
    "#train_data[0]"
   ]
  },
  {
   "cell_type": "code",
   "execution_count": null,
   "metadata": {},
   "outputs": [],
   "source": [
    "print(\"Testing models...\")\n",
    "n_layers = 1\n",
    "input_size = len(word2index)\n",
    "slot_size = len(tag2index)\n",
    "intent_size = len(intent2index)\n",
    "embed_size = 5\n",
    "hidden_size = 5\n",
    "output_size = MAX_LENGTH\n",
    "encoder = Encoder(input_size, embed_size,hidden_size,slot_size,intent_size).to(device)"
   ]
  },
  {
   "cell_type": "code",
   "execution_count": null,
   "metadata": {},
   "outputs": [],
   "source": [
    "for batch in get_batches(256,train_data[:]):\n",
    "    inputs = batch[0]\n",
    "    inputs = inputs.to(device)\n",
    "    #slots = encoder(inputs)\n",
    "    slots, intents,_ = encoder(inputs)\n",
    "    #print(torch.argmax(slots,dim=0))"
   ]
  },
  {
   "cell_type": "markdown",
   "metadata": {},
   "source": [
    "# Training the model & Running Experiments"
   ]
  },
  {
   "cell_type": "code",
   "execution_count": 51,
   "metadata": {},
   "outputs": [],
   "source": [
    "def train_model(model,optimizer,train_data,constant_params):\n",
    "    loss_by_epoch = {}\n",
    "    criterion = constant_params['criterion']\n",
    "    model.train()\n",
    "    for epoch in range(constant_params['num_epoch']):\n",
    "        slot_losses = []\n",
    "        intent_losses = []\n",
    "        inp = get_batches(constant_params['batch_size'],train_data)\n",
    "        for data in inp:\n",
    "            inputs, labels, intents = data[0],data[1],data[2]\n",
    "            inputs = inputs.type(torch.LongTensor).to(device)\n",
    "            labels = labels.type(torch.LongTensor).view(-1).to(device) #squashing\n",
    "            intents = intents.to(device)\n",
    "            # zero the parameter gradients\n",
    "            optimizer.zero_grad()\n",
    "\n",
    "            # forward + backward + optimize\n",
    "            out_slots, out_intents,_ = model(inputs)\n",
    "            out_slots = out_slots.view(-1,constant_params['SLOT_DIM'])\n",
    "            out_intents = out_intents.view(-1,constant_params['INTENT_DIM'])\n",
    "            \n",
    "            slot_loss = criterion(out_slots, labels)\n",
    "            intent_loss = criterion(out_intents, intents) \n",
    "            \n",
    "            slot_losses.append(slot_loss.item())\n",
    "            intent_losses.append(intent_loss.item())\n",
    "            \n",
    "            slot_loss.backward(retain_graph=True)\n",
    "            intent_loss.backward()\n",
    "            optimizer.step()\n",
    "        slot_col_name = \"epoch:\"+str(epoch+1)+\"_slot_losses\"\n",
    "        intent_col_name = \"epoch:\"+str(epoch+1)+\"_intent_losses\"\n",
    "        loss_by_epoch[slot_col_name] = slot_losses\n",
    "        loss_by_epoch[intent_col_name] = intent_losses\n",
    "        \n",
    "    return loss_by_epoch #slot_losses, intent_losses,\n",
    "\n",
    "def make_models(constant_params,vary_params):\n",
    "    #make a model with a different embedding size\n",
    "    model_list = []\n",
    "    for i in range(len(vary_params['embed_size'])):\n",
    "        model_list.append( Encoder(constant_params['INPUT_DIM'],\n",
    "                                   vary_params['embed_size'][i],\n",
    "                                   vary_params['embed_size'][i],\n",
    "                                      constant_params['SLOT_DIM'],\n",
    "                                      constant_params['INTENT_DIM']).to(device) )\n",
    "    return model_list\n",
    "\n",
    "def run_experiment(constant_params,vary_params,num_runs,exp_data,model_type='ann'):\n",
    "    experiment_results = {}\n",
    "    list_of_dfs = []\n",
    "    for run in range(num_runs): # fill dict with keys\n",
    "        for i in range(len(vary_params['embed_size'])):\n",
    "            col_name = 'run_'+str(run+1)+'_embed_size_'+str(vary_params['embed_size'][i])\n",
    "            experiment_results[col_name] = []\n",
    "           \n",
    "    for run in range(num_runs):# run actual experiments\n",
    "        run_model_list = make_models(constant_params,vary_params)\n",
    "        for i in range(len(run_model_list)):\n",
    "            optimizer = optim.Adam(run_model_list[i].parameters(), lr=0.01)\n",
    "            col_name = 'run_'+str(run+1)+'_embed_size_'+str(vary_params['embed_size'][i])\n",
    "           \n",
    "            loss_by_epoch = train_model(run_model_list[i],\n",
    "                                       optimizer,\n",
    "                                       exp_data,\n",
    "                                       constant_params)\n",
    "            \n",
    "            result_dataframe = pd.DataFrame(loss_by_epoch,index=None)\n",
    "            result_dataframe.to_csv(\"experiment_results/\"+\n",
    "                                    str(model_type)+\n",
    "                                    str(run)+\"_\"+\n",
    "                                    str(vary_params['embed_size'][i])+\"_\"\n",
    "                                    \"train_experiment.csv\")\n",
    "            list_of_dfs.append(result_dataframe)\n",
    "            #experiment_results[col_name].append(loss_by_epoch)\n",
    "            #experiment_results[col_name].append(run_intent_losses)\n",
    "                \n",
    "    # after experiments are over save as a .csv\n",
    "#     result_dataframe = pd.DataFrame(experiment_results,index=None)\n",
    "#     result_dataframe.to_csv(\"experiment_results/\"+str(model_type)+\"train_experiments.csv\")\n",
    "    return list_of_dfs #incase we want it"
   ]
  },
  {
   "cell_type": "code",
   "execution_count": 52,
   "metadata": {},
   "outputs": [],
   "source": [
    "constant_exp_params = {'batch_size':128,\n",
    "                       'num_epoch':200,\n",
    "                      'INPUT_DIM':len(word2index),\n",
    "                      'SLOT_DIM':len(tag2index),\n",
    "                      'INTENT_DIM':len(index2intent),\n",
    "                      'criterion': nn.CrossEntropyLoss(ignore_index=0,reduction='elementwise_mean')}\n",
    "\n",
    "variable_exp_params = {'embed_size':[2,4,8,16,32,64,128,256]}\n",
    "                        "
   ]
  },
  {
   "cell_type": "code",
   "execution_count": 53,
   "metadata": {},
   "outputs": [
    {
     "name": "stdout",
     "output_type": "stream",
     "text": [
      "Time elapsed: 582.1309 mins \n"
     ]
    }
   ],
   "source": [
    "start = time.time()\n",
    "run_experiment(constant_exp_params,variable_exp_params,5,train_data,model_type='rnn')\n",
    "end = time.time()\n",
    "elapsed = (end-start)/60.\n",
    "print('Time elapsed: %.4f mins ' % (elapsed))"
   ]
  },
  {
   "cell_type": "markdown",
   "metadata": {},
   "source": [
    "# ==============================================="
   ]
  },
  {
   "cell_type": "code",
   "execution_count": 40,
   "metadata": {},
   "outputs": [],
   "source": [
    "n_layers = 1\n",
    "input_size = len(word2index)\n",
    "slot_size = len(tag2index)\n",
    "intent_size = len(intent2index)\n",
    "embed_size = 128\n",
    "hidden_size = 128\n",
    "#output_size = MAX_LENGTH\n",
    "encoder = Encoder(input_size, embed_size,hidden_size,slot_size,intent_size).to(device)\n",
    "#-----------------------\n",
    "criterion = nn.CrossEntropyLoss(ignore_index=0,reduction='elementwise_mean')#ignore <pad> remember this ignoring 0 in intent as well, need 2 loss\n",
    "optimizer = optim.Adam(encoder.parameters(), lr=0.01)\n",
    "#batch_size = 100"
   ]
  },
  {
   "cell_type": "code",
   "execution_count": 41,
   "metadata": {},
   "outputs": [
    {
     "name": "stdout",
     "output_type": "stream",
     "text": [
      "Slot Loss after epoch 0: 1.7161940336227417\n",
      "Intent Loss after epoch 0: 1.196366786956787\n",
      "-----------------------------------------------\n",
      "Time elapsed: 0.0171 mins \n"
     ]
    }
   ],
   "source": [
    "num_epochs = 1\n",
    "start = time.time()\n",
    "for epoch in range(num_epochs):\n",
    "    inp = get_batches(256,train_data)\n",
    "    encoder.train()\n",
    "    for data in inp:\n",
    "        # get the inputs\n",
    "        inputs, labels, intents = data[0],data[1],data[2]\n",
    "        inputs = inputs.type(torch.LongTensor).to(device)\n",
    "        labels = labels.type(torch.LongTensor).view(-1).to(device) #squashing\n",
    "        intents = intents.to(device)#.type(torch.FloatTensor)\n",
    "        \n",
    "        # zero the parameter gradients\n",
    "        optimizer.zero_grad()\n",
    "        \n",
    "        # forward + backward + optimize\n",
    "        #out_slots = encoder(inputs)\n",
    "        out_slots, out_intents,_ = encoder(inputs)\n",
    "        slot_loss = criterion(out_slots, labels)\n",
    "        #print(out_intents.size(),intents.size())\n",
    "        out_intents = out_intents.view(-1,intent_size)\n",
    "        intent_loss = criterion(out_intents, intents) \n",
    "\n",
    "       # slot_loss.backward()        \n",
    "        slot_loss.backward(retain_graph=True)\n",
    "        intent_loss.backward()\n",
    "        optimizer.step()\n",
    "\n",
    "    if epoch%5==0:\n",
    "        print('Slot Loss after epoch '+str(epoch)+':',slot_loss.item())\n",
    "        print('Intent Loss after epoch '+str(epoch)+':',intent_loss.item())\n",
    "        print('-----------------------------------------------')\n",
    "end = time.time()\n",
    "elapsed = (end-start)/60.\n",
    "print('Time elapsed: %.4f mins ' % (elapsed))"
   ]
  },
  {
   "cell_type": "code",
   "execution_count": null,
   "metadata": {},
   "outputs": [],
   "source": []
  },
  {
   "cell_type": "markdown",
   "metadata": {},
   "source": [
    "# Evaluation\n",
    "Our Vanilla RNN does poorly on intent detection, only predicting 11 as the intent. This happens because with a vanilla RNN, the final hidden state only takes into account the final word. Also 11 (atis_flight) is the most common intent in the data set. Possibly an LSTM would help as the context vector holds features about other parts of the query other than the last word."
   ]
  },
  {
   "cell_type": "code",
   "execution_count": null,
   "metadata": {},
   "outputs": [],
   "source": [
    "with open('data/preprocessed/fold_test.json', 'r') as f:\n",
    "    atis_test_json = json.load(f)"
   ]
  },
  {
   "cell_type": "code",
   "execution_count": null,
   "metadata": {},
   "outputs": [],
   "source": [
    "adjusted_atis_test = adjust_sequences(atis_test_json)#padded"
   ]
  },
  {
   "cell_type": "code",
   "execution_count": null,
   "metadata": {},
   "outputs": [],
   "source": [
    "test_data = create_training_set(adjusted_atis_test) "
   ]
  },
  {
   "cell_type": "code",
   "execution_count": null,
   "metadata": {},
   "outputs": [],
   "source": [
    "#Exclude pad \n",
    "def calc_bat_fscores(y_pred,y_true,predict_type='slot'):\n",
    "    \"\"\"\n",
    "    Calc average f score for a batch.\n",
    "    compares each predicted output in a batch to actual output.\n",
    "    Then averages that.\n",
    "    \"\"\"\n",
    "    batch_avg_f = []\n",
    "    keep_slots = [i for i in tag2index.values() if i > 3]#filter out unk,pad,sos,eos\n",
    "    if predict_type=='slot':\n",
    "#         for pred_i in range(len(y_pred)):# range batch size\n",
    "            #print(y_pred[pred_i].size())\n",
    "        f_score = f1_score(y_true[:len(y_pred)], y_pred,labels=keep_slots, average ='micro')  \n",
    "        batch_avg_f.append(f_score)\n",
    "    else:\n",
    "        return f1_score(y_true,y_pred,average ='micro')\n",
    "    return np.mean(batch_avg_f)"
   ]
  },
  {
   "cell_type": "code",
   "execution_count": null,
   "metadata": {},
   "outputs": [],
   "source": [
    "import warnings\n",
    "warnings.filterwarnings('ignore')# get a lot of warnings because some labels are not predicted..."
   ]
  },
  {
   "cell_type": "code",
   "execution_count": null,
   "metadata": {},
   "outputs": [],
   "source": [
    "inp = get_batches(1,test_data)\n",
    "encoder.eval()\n",
    "f_slot_scores = []\n",
    "f_intent_scores = []\n",
    "for data in inp:\n",
    "    # get the inputs\n",
    "    inputs, labels , true_intents = data[0],data[1],data[2]\n",
    "    inputs = inputs.type(torch.LongTensor).to(device)\n",
    "    labels = labels.type(torch.LongTensor).view(-1).to(device) #squashing\n",
    "    true_intents = true_intents.to(device)\n",
    "    \n",
    "    enc_output ,intents, slot_embedding = encoder(inputs)\n",
    "    #enc_output = encoder(inputs)\n",
    "    y_pred_slots = torch.argmax(enc_output,dim=1)\n",
    "    eos_idx = y_pred_slots.topk(1,largest=False)[1].item()\n",
    "    eos_cut_slots = y_pred_slots[:eos_idx]\n",
    "    f_slot_scores.append(calc_bat_fscores(eos_cut_slots,labels.view(-1)))\n",
    "    y_pred_intents = torch.argmax(intents,dim=2)\n",
    "    #print(y_pred_intents)\n",
    "    f_intent_scores.append(calc_bat_fscores(y_pred_intents[0],true_intents,predict_type='intent'))\n",
    "#    print(eos_idx,y_pred_slots)\n",
    "print('Mean Slot F Metric :',np.mean(f_slot_scores))\n",
    "print('-----------------------------------------------')  \n",
    "print('Mean Intent F Metric :',np.mean(f_intent_scores))"
   ]
  },
  {
   "cell_type": "code",
   "execution_count": null,
   "metadata": {},
   "outputs": [],
   "source": [
    "#torch.topk()"
   ]
  },
  {
   "cell_type": "code",
   "execution_count": null,
   "metadata": {},
   "outputs": [],
   "source": []
  },
  {
   "cell_type": "markdown",
   "metadata": {},
   "source": [
    "## Confusion Matrix"
   ]
  },
  {
   "cell_type": "code",
   "execution_count": null,
   "metadata": {},
   "outputs": [],
   "source": [
    "def categoryFromOutput(output):\n",
    "    category_i = output.item()\n",
    "    return index2intent[category_i], category_i"
   ]
  },
  {
   "cell_type": "code",
   "execution_count": null,
   "metadata": {},
   "outputs": [],
   "source": [
    "for data in get_batches(1,test_data[0:1]):\n",
    "    input,_,intent = data[0],data[1],data[2]\n",
    "    input = input.to(device)\n",
    "    #print(input.size())\n",
    "    output,intent_pred,_  = encoder(input)\n",
    "    print(intent_pred.size())\n",
    "    predictions = torch.argmax(intent_pred,dim=2)[0]\n",
    "    print(output.size())# not really important need to take time to document properly\n",
    "    print(predictions)\n",
    "    print(categoryFromOutput(predictions))\n"
   ]
  },
  {
   "cell_type": "code",
   "execution_count": null,
   "metadata": {},
   "outputs": [],
   "source": [
    "all_categories = []\n",
    "intent_labels = ['abbreviation','aircraft','aircraft&flight&flight_no',\n",
    "                 'airfare','airline','airline_flight_no','airport','capacity',\n",
    "                'cheapest','city','distance','flight','flight&airfare','flight_no','flight_time',\n",
    "                 'ground_fare','ground_fare_service','ground_service&ground_fare','meal',\n",
    "                'quantity','restriction']\n",
    "for category in intent2index.values():\n",
    "    all_categories.append(category)\n",
    "      \n",
    "len(all_categories),len(intent_labels)"
   ]
  },
  {
   "cell_type": "code",
   "execution_count": null,
   "metadata": {},
   "outputs": [],
   "source": [
    "import matplotlib.pyplot as plt\n",
    "import matplotlib.ticker as ticker\n",
    "%matplotlib inline\n",
    "from IPython.display import set_matplotlib_formats\n",
    "set_matplotlib_formats('png','pdf')\n",
    "fig, ax = plt.subplots(figsize=a4_dims)"
   ]
  },
  {
   "cell_type": "code",
   "execution_count": null,
   "metadata": {},
   "outputs": [],
   "source": [
    "# Keep track of correct guesses in a confusion matrix\n",
    "n_categories = len(all_categories)\n",
    "confusion = torch.zeros(n_categories, n_categories)\n",
    "n_confusion = 5000\n",
    "\n",
    "# Go through a bunch of examples and record which are correctly guessed\n",
    "for data in get_batches(1,train_data):\n",
    "    inputs, labels , true_intents = data[0],data[1],data[2]\n",
    "    inputs = inputs.type(torch.LongTensor).to(device)\n",
    "    labels = labels.to(device)\n",
    "    true_intents = true_intents.to(device)\n",
    "    output,intent_pred,_  = encoder(inputs)\n",
    "    predictions = torch.argmax(intent_pred,dim=2)[0]\n",
    "    #print(predictions, true_intents)\n",
    "    guess, guess_i = categoryFromOutput(predictions)\n",
    "    if true_intents.item()!= -1:#intent is in dataset\n",
    "        category_i = all_categories.index(true_intents)\n",
    "        confusion[category_i][guess_i] += 1\n",
    "\n",
    "# Normalize by dividing every row by its sum\n",
    "for i in range(n_categories):\n",
    "    confusion[i] = confusion[i] / confusion[i].sum()\n",
    "\n",
    "# Set up plot\n",
    "fig = plt.figure()\n",
    "ax = fig.add_subplot(111)\n",
    "cax = ax.matshow(confusion.numpy())\n",
    "fig.colorbar(cax)\n",
    "\n",
    "# Set up axes\n",
    "ax.set_xticklabels([''] + intent_labels, rotation=90)\n",
    "ax.set_yticklabels([''] + intent_labels) #true\n",
    "\n",
    "# Force label at every tick\n",
    "ax.xaxis.set_major_locator(ticker.MultipleLocator(1))\n",
    "ax.yaxis.set_major_locator(ticker.MultipleLocator(1))\n",
    "\n",
    "# sphinx_gallery_thumbnail_number = 2\n",
    "#plt.test_datashow()\n",
    "fig = ax.get_figure()\n",
    "fig.savefig(\"rnn_cm_with_intent\",dpi=300)"
   ]
  },
  {
   "cell_type": "code",
   "execution_count": null,
   "metadata": {},
   "outputs": [],
   "source": []
  },
  {
   "cell_type": "code",
   "execution_count": null,
   "metadata": {},
   "outputs": [],
   "source": []
  }
 ],
 "metadata": {
  "kernelspec": {
   "display_name": "Python 3",
   "language": "python",
   "name": "python3"
  },
  "language_info": {
   "codemirror_mode": {
    "name": "ipython",
    "version": 3
   },
   "file_extension": ".py",
   "mimetype": "text/x-python",
   "name": "python",
   "nbconvert_exporter": "python",
   "pygments_lexer": "ipython3",
   "version": "3.7.1"
  }
 },
 "nbformat": 4,
 "nbformat_minor": 2
}
