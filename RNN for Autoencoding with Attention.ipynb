{
 "cells": [
  {
   "cell_type": "code",
   "execution_count": 1,
   "metadata": {},
   "outputs": [],
   "source": [
    "from utils import *\n",
    "from datetime import datetime\n",
    "import time\n",
    "import math"
   ]
  },
  {
   "cell_type": "code",
   "execution_count": 2,
   "metadata": {},
   "outputs": [],
   "source": [
    "MAX_LENGTH = 50\n",
    "device = torch.device('cuda' if torch.cuda.is_available() else 'cpu')"
   ]
  },
  {
   "cell_type": "markdown",
   "metadata": {},
   "source": [
    "## Reading the Data In"
   ]
  },
  {
   "cell_type": "code",
   "execution_count": 3,
   "metadata": {},
   "outputs": [],
   "source": [
    "with open('data/preprocessed/fold_train.json', 'r') as f:\n",
    "    atis_json = json.load(f)"
   ]
  },
  {
   "cell_type": "markdown",
   "metadata": {},
   "source": [
    "# Data Preprocessing"
   ]
  },
  {
   "cell_type": "code",
   "execution_count": 4,
   "metadata": {},
   "outputs": [],
   "source": [
    "def flatten(list_of_lists):\n",
    "    \"\"\"Flattens from two-dimensional list to one-dimensional list\"\"\"\n",
    "    return [item for sublist in list_of_lists for item in sublist]"
   ]
  },
  {
   "cell_type": "code",
   "execution_count": 5,
   "metadata": {},
   "outputs": [],
   "source": [
    "def adjust_sequences(data, length=MAX_LENGTH):\n",
    "    \"\"\"\n",
    "    Fixes the input and output sequences length, adding padding or truncating if necessary\n",
    "    :param data json file containing entries from atis dataset.\n",
    "    :param length the fixed length of the sentence.\n",
    "    \"\"\"\n",
    "    for sample in data['data']:\n",
    "        # adjust the sequence of input words\n",
    "        if len(sample['words']) < length:\n",
    "            # add <EOS> and <PAD> if sentence is shorter than maximum length\n",
    "            sample['words'].append('<EOS>')\n",
    "            while len(sample['words']) < length:\n",
    "                sample['words'].append('<PAD>')\n",
    "        else:\n",
    "            # otherwise truncate and add <EOS> at last position\n",
    "            sample['words'] = sample['words'][:length]\n",
    "            sample['words'][-1] = '<EOS>'\n",
    "\n",
    "        # adjust in the same way the sequence of output slots\n",
    "        if len(sample['slots']) < length:\n",
    "            sample['slots'].append('<EOS>')\n",
    "            while len(sample['slots']) < length:\n",
    "                sample['slots'].append('<PAD>')\n",
    "        else:\n",
    "            sample['slots'] = sample['slots'][:length]\n",
    "            sample['slots'][-1] = '<EOS>'\n",
    "\n",
    "    return data"
   ]
  },
  {
   "cell_type": "code",
   "execution_count": null,
   "metadata": {},
   "outputs": [],
   "source": [
    "def get_vocabularies(train_data):\n",
    "    \"\"\"\n",
    "    Collect the input vocabulary, the slot vocabulary and the intent vocabulary\n",
    "    :param train_data the training data containing words,slots and intent.\n",
    "    \"\"\"\n",
    "    # from a list of training examples, get three lists (columns)\n",
    "    data = train_data['data']\n",
    "    seq_in = [sample['words'] for sample in data]\n",
    "    vocab = flatten(seq_in)\n",
    "    # removing duplicated but keeping the order\n",
    "    v = ['<PAD>', '<SOS>', '<EOS>'] + vocab\n",
    "    vocab = sorted(set(v), key=lambda x: v.index(x)) # https://docs.python.org/3.3/howto/sorting.html\n",
    "    s = ['<PAD>','<EOS>'] + train_data['meta']['slot_types']\n",
    "    slot_tag = sorted(set(s), key=lambda x: s.index(x))\n",
    "    i = train_data['meta']['intent_types']\n",
    "    intent_tag = sorted(set(i), key=lambda x: i.index(x))\n",
    "\n",
    "    return vocab, slot_tag, intent_tag"
   ]
  },
  {
   "cell_type": "code",
   "execution_count": null,
   "metadata": {},
   "outputs": [],
   "source": [
    "adjusted_atis = adjust_sequences(atis_json)#padded"
   ]
  },
  {
   "cell_type": "code",
   "execution_count": null,
   "metadata": {},
   "outputs": [],
   "source": [
    "atis_vocab,atis_slots,atis_intents = get_vocabularies(adjusted_atis)"
   ]
  },
  {
   "cell_type": "code",
   "execution_count": null,
   "metadata": {},
   "outputs": [],
   "source": [
    "len(atis_vocab),len(atis_slots),len(atis_intents)"
   ]
  },
  {
   "cell_type": "markdown",
   "metadata": {},
   "source": [
    "# Next we map the data and set it up for Pytorch\n",
    "Remember each vocabulary for each sentence, slot and intent will have different embeddings. They are different sized vectors. The Network will try to figure out a mapping from these different vector spaces."
   ]
  },
  {
   "cell_type": "code",
   "execution_count": null,
   "metadata": {},
   "outputs": [],
   "source": [
    "def create_mappings(vocab,forward_map,intent=False):\n",
    "    \"\"\"\n",
    "    This function takes the words in the vocabulary and creates a unique mapping to a number.\n",
    "    :param vocab contains all the words in the corpus.\n",
    "    :param forward_map a dictionary that will be populated with mappings.\n",
    "    returns populated forward_map\n",
    "    \"\"\"\n",
    "    for sample in vocab:\n",
    "        if not intent and sample not in forward_map.keys():\n",
    "            forward_map[sample]= len(forward_map)\n",
    "        elif intent:\n",
    "            forward_map[sample]= len(forward_map)#+1# this so we can use 1 loss function\n",
    "            \n",
    "    return forward_map"
   ]
  },
  {
   "cell_type": "code",
   "execution_count": null,
   "metadata": {},
   "outputs": [],
   "source": [
    "word2index = {'<PAD>': 0, '<UNK>':1,'<SOS>':2,'<EOS>':3}\n",
    "create_mappings(atis_vocab,word2index)\n",
    "index2word = {v:k for k,v in word2index.items()}"
   ]
  },
  {
   "cell_type": "code",
   "execution_count": null,
   "metadata": {},
   "outputs": [],
   "source": [
    "tag2index = {'<PAD>' : 0,'<UNK>':1,'<EOS>':2}\n",
    "create_mappings(atis_slots,tag2index)\n",
    "index2tag = {v:k for k,v in tag2index.items()}"
   ]
  },
  {
   "cell_type": "code",
   "execution_count": null,
   "metadata": {},
   "outputs": [],
   "source": [
    "intent2index={}\n",
    "create_mappings(atis_intents,intent2index,intent=True)\n",
    "index2intent = {v:k for k,v in intent2index.items()}"
   ]
  },
  {
   "cell_type": "code",
   "execution_count": null,
   "metadata": {},
   "outputs": [],
   "source": [
    "len(word2index)\n",
    "len(intent2index)\n",
    "#word2index"
   ]
  },
  {
   "cell_type": "markdown",
   "metadata": {},
   "source": [
    "### Next we create a Tensor where each row is a mapped/embedded sequence"
   ]
  },
  {
   "cell_type": "code",
   "execution_count": null,
   "metadata": {},
   "outputs": [],
   "source": [
    "def prepare_sequence(seq_data, mapping,map_type):\n",
    "    \"\"\"\n",
    "    :param seq a sequnce which will be embedded as a vector\n",
    "    :param mapping, a dictionary which contains how each element in the seq will be mapped to a number.\n",
    "    :param map_type 'words','slots' or 'intent'\n",
    "    returns a Pytorch Tensor.\n",
    "    \"\"\"\n",
    "    if map_type=='intent':\n",
    "        intent = seq_data[map_type]\n",
    "        embeddings = mapping[intent] if intent in mapping.keys() else -1 #mapping[\"<UNK>\"]\n",
    "        return torch.tensor(embeddings)   \n",
    "    else:\n",
    "        embed_fnc = lambda word: mapping[word] if word in mapping.keys() else mapping['<UNK>']\n",
    "        embeddings = list(map(embed_fnc, seq_data[map_type])) \n",
    "        return torch.LongTensor(embeddings)"
   ]
  },
  {
   "cell_type": "code",
   "execution_count": null,
   "metadata": {},
   "outputs": [],
   "source": [
    "def create_training_set(padded_atis):\n",
    "    \"\"\"\n",
    "    :param padded_atis, this is padded sequence data.\n",
    "           Of the form seq,slots,intent. This function coverts \n",
    "           these into tensors.\n",
    "    return train_data; [(seq_tensor,slot_tensor,intent_tensor)]\n",
    "    \"\"\"\n",
    "    train_data = []\n",
    "    atis_data = padded_atis['data']\n",
    "    for i in range(len(atis_data)):\n",
    "        seq_tensor = prepare_sequence(atis_data[i],word2index,'words')\n",
    "        slot_tensor = prepare_sequence(atis_data[i],tag2index,'slots')\n",
    "        intent_tensor = prepare_sequence(atis_data[i],intent2index,'intent')\n",
    "        train_data.append((seq_tensor,slot_tensor,intent_tensor))\n",
    "    return train_data"
   ]
  },
  {
   "cell_type": "code",
   "execution_count": null,
   "metadata": {},
   "outputs": [],
   "source": [
    "train_data = create_training_set(adjusted_atis)"
   ]
  },
  {
   "cell_type": "markdown",
   "metadata": {},
   "source": [
    "## Batching the data"
   ]
  },
  {
   "cell_type": "code",
   "execution_count": null,
   "metadata": {},
   "outputs": [],
   "source": [
    "def concatenate_batch(batch):\n",
    "#     print(len(batch), len(batch[0]))\n",
    "    #     print([ex[0] for ex in batch])\n",
    "    seqs = torch.stack([ex[0] for ex in batch])\n",
    "    slots = torch.stack([ex[1] for ex in batch])\n",
    "    intents = torch.stack([ex[2] for ex in batch])\n",
    "   \n",
    "    return seqs,slots,intents"
   ]
  },
  {
   "cell_type": "code",
   "execution_count": null,
   "metadata": {},
   "outputs": [],
   "source": [
    "def get_batches(batch_size, train_data):\n",
    "    \"\"\"\n",
    "    Returns iteratively a batch of specified size on the data. \n",
    "    The last batch can be smaller if the total size is not multiple of the batch\n",
    "    \"\"\"\n",
    "    random.shuffle(train_data)\n",
    "    sindex = 0\n",
    "    eindex = batch_size\n",
    "    while sindex < len(train_data):\n",
    "        batch = train_data[sindex:eindex] #list of batch_size num of tuples.\n",
    "        temp = eindex\n",
    "        eindex = eindex + batch_size\n",
    "        sindex = temp\n",
    "        #print('returning', len(batch), 'samples')\n",
    "        yield concatenate_batch(batch)"
   ]
  },
  {
   "cell_type": "markdown",
   "metadata": {},
   "source": [
    "# Building RNN  to reconstruct a query "
   ]
  },
  {
   "cell_type": "code",
   "execution_count": null,
   "metadata": {},
   "outputs": [],
   "source": [
    "class Encoder(nn.Module):\n",
    "    \"\"\"\n",
    "    An encoder/decoder that\n",
    "    takes a batch of sequences embeds the sequence and\n",
    "    then runs it through a fully connected layer to predict slots and intent.\n",
    "    \"\"\"\n",
    "    def __init__(self,input_dim,hidden_dim,emb_dim,slot_dim,intent_dim):\n",
    "        super(Encoder, self).__init__()\n",
    "        self.input_dim = input_dim\n",
    "        self.emb_dim = emb_dim\n",
    "        self.hidden_dim = hidden_dim\n",
    "       \n",
    "        self.slot_dim = slot_dim\n",
    "        #self.intent_dim = intent_dim\n",
    "        self.batch_size = batch_size\n",
    "       \n",
    "        self.embedding = nn.Embedding(input_dim, emb_dim)\n",
    "        self.rnn = nn.RNN(emb_dim, hidden_dim,batch_first=True)\n",
    "        \n",
    "        self.slot_fc = nn.Linear(hidden_dim,MAX_LENGTH)# if reconstruction output should be seq len\n",
    "    \n",
    "    def forward(self,src):\n",
    "        #src [seq len,batch size] -> [seq len, batch size, emb_dim]\n",
    "        embedded_seq = self.embedding(src)\n",
    "#         print('embedded_seq', embedded_seq.size())\n",
    "        outputs, hidden = self.rnn(embedded_seq)\n",
    "        #print(outputs.size(),hidden.size())\n",
    "        #outputs = outputs.contiguous().view(-1,self.emb_dim)\n",
    "        hidden = hidden.contiguous().view(hidden.size()[1],self.hidden_dim)\n",
    "        #print(\"after turn to col vec\",outputs.size())\n",
    "        slot_space = self.slot_fc(hidden)#self.slot_fc(outputs)\n",
    "        slot_scores = slot_space\n",
    "        #print(\"slot score\",slot_scores.size())\n",
    "\n",
    "        return slot_scores#, intent_scores, hidden"
   ]
  },
  {
   "cell_type": "code",
   "execution_count": null,
   "metadata": {},
   "outputs": [],
   "source": [
    "print(\"Testing models...\")\n",
    "n_layers = 1\n",
    "input_size = len(word2index)\n",
    "slot_size = len(tag2index)\n",
    "intent_size = len(intent2index)\n",
    "embed_size = 5\n",
    "hidden_size = 5\n",
    "output_size = MAX_LENGTH\n",
    "batch_size = 1\n",
    "encoder = Encoder(input_size, embed_size,hidden_size,slot_size,intent_size,batch_size).to(device)"
   ]
  },
  {
   "cell_type": "code",
   "execution_count": null,
   "metadata": {},
   "outputs": [],
   "source": [
    "for batch in get_batches(1,train_data[:3]):\n",
    "    inputs = batch[0]\n",
    "    inputs = inputs.to(device)\n",
    "    slots = encoder(inputs)\n",
    "len(batch[2].nonzero())\n",
    "#batch[2]"
   ]
  },
  {
   "cell_type": "markdown",
   "metadata": {},
   "source": [
    "# Training the model    "
   ]
  },
  {
   "cell_type": "code",
   "execution_count": null,
   "metadata": {},
   "outputs": [],
   "source": [
    "input_size = len(word2index)\n",
    "slot_size = len(tag2index)\n",
    "intent_size = len(intent2index)\n",
    "embed_size = 128\n",
    "hidden_size = 128\n",
    "output_size = MAX_LENGTH\n",
    "batch_size = 256\n",
    "encoder = Encoder(input_size, embed_size,hidden_size,slot_size,intent_size).to(device)\n",
    "#-----------------------\n",
    "criterion = nn.MSELoss()#reduce='sum'\n",
    "#nn.CrossEntropyLoss(ignore_index=0,reduction='elementwise_mean')#ignore <pad> remember this ignoring 0 in intent as well, need 2 loss\n",
    "optimizer = optim.Adam(encoder.parameters(), lr=0.01)\n"
   ]
  },
  {
   "cell_type": "code",
   "execution_count": null,
   "metadata": {},
   "outputs": [],
   "source": [
    "num_epochs = 50\n",
    "start = time.time()\n",
    "for epoch in range(num_epochs):\n",
    "    inp = get_batches(batch_size,train_data)\n",
    "    encoder.train()\n",
    "    for data in inp:\n",
    "        # get the inputs\n",
    "        inputs = data[0].to(device)\n",
    "        #not_input_pad = torch.Tensor(len(inputs.nonzero())).type(torch.FloatTensor)\n",
    "        # zero the parameter gradients\n",
    "        optimizer.zero_grad()\n",
    "        # forward + backward + optimize\n",
    "        #out_slots = encoder(inputs)\n",
    "        out_slots = encoder(inputs)\n",
    "#         print(out_slots[0,:])\n",
    "#         print(out_slots.type(),inputs.type())\n",
    "        slot_loss = criterion(out_slots, inpu array([0.1, 0.2, 0.3, 0.4, 0.5, 0.6, 0.7, 0.8, 0.9])ts.type(torch.FloatTensor))#/not_input_pad #any cases where it is all zero? Don't think so.\n",
    "        \n",
    "        #out_intents = out_intents.view(-1,intent_size)\n",
    "        #intent_loss = criterion(out_intents, intents) \n",
    "\n",
    "       # slot_loss.backward()        \n",
    "        slot_loss.backward()\n",
    "        optimizer.step()\n",
    "\n",
    "        \n",
    "    if epoch%10==0:\n",
    "        print('Reconstruction Loss after epoch '+str(epoch)+':',slot_loss.item())\n",
    "        print('-----------------------------------------------')\n",
    "end = time.time()\n",
    "elapsed = (end-start)/60.\n",
    "print('Time elapsed: %.4f mins ' % (elapsed))"
   ]
  },
  {
   "cell_type": "markdown",
   "metadata": {},
   "source": [
    "# What is an RNN actually doing?\n",
    "Write this here before moving on. This is discussed in my draft.\n",
    "Will add attention to this simple architecture."
   ]
  },
  {
   "cell_type": "code",
   "execution_count": 134,
   "metadata": {},
   "outputs": [],
   "source": [
    "class SimpleEncoderRNN(nn.Module):\n",
    "    def __init__(self,input_size, hidden_size):\n",
    "        super(SimpleEncoderRNN, self).__init__()\n",
    "        self.input_size = input_size\n",
    "        self.hidden_size = hidden_size\n",
    "        self.rnn = nn.RNN(input_size=self.input_size,\n",
    "                          hidden_size=self.hidden_size,\n",
    "                          batch_first=True)\n",
    "    \n",
    "    def forward(self,src):\n",
    "        encoded_input, hidden = self.rnn(src)\n",
    "        #print('Input looks like:',src)\n",
    "        return encoded_input\n",
    "\n",
    "class SimpleDecoderRNN(nn.Module):\n",
    "    \"\"\"\n",
    "    Input size is same as hidden size\n",
    "    \"\"\"\n",
    "    def __init__(self,input_size, hidden_size):\n",
    "        super(SimpleDecoderRNN, self).__init__()\n",
    "        self.input_size = input_size\n",
    "        self.hidden_size = hidden_size\n",
    "        self.rnn = nn.RNN(input_size=self.input_size,\n",
    "                          hidden_size=self.hidden_size,\n",
    "                          batch_first=True)\n",
    "        self.fc_out = nn.Linear(self.hidden_size,8)# (sequence lenth,seq len) ideally maybe take a smaller dimension but output same\n",
    "        # The fully connected is need because output from RNN is in range [-1,1] because of tanh activation.\n",
    "        # Hence the fc allows for linear combinations to get the reconstruction values we need.\n",
    "    def forward(self,src):\n",
    "        decoded_input, hidden = self.rnn(src)\n",
    "        #Attention\n",
    "        #Attn 1: Obtain a score for every enc hidden state,we will use dot product\n",
    "            # remember batch is done 1 by 1 so I think batch = 1\n",
    "            # src dim = [batch_size,seq_len,hidden_size] flatten -> [seq_len,hidden]\n",
    "            # decoder hidden = [num_layers,batch,hidden] flatten-> [hidden,batch] or [hidden,1]\n",
    "        src_reshaped = src.contiguous().view(-1,self.hidden_size)\n",
    "        decoder_hidden_reshaped = hidden.contiguous().view(self.hidden_size,hidden.size()[1])\n",
    "        #print(self.hidden_size)\n",
    "        enc_hs_score = torch.matmul(src_reshaped,decoder_hidden_reshaped)\n",
    "        #print(\"enc scores:\",enc_hs_score,\"enc scores dim:\",enc_hs_score.size())\n",
    "        \n",
    "        #Attn 2: Run the scores through a softmax layer\n",
    "        normalized_scores = F.softmax(enc_hs_score,dim=0)\n",
    "        #print(\"Normalized enc scores:\",normalized_scores)\n",
    "        # Attn 3: Multiply each enc hs by its softmaxed score(i.e weight the enc hidden state)\n",
    "        weighted_enc_hs = torch.mul(normalized_scores,src_reshaped)\n",
    "        #print(\"weighted enc\",weighted_enc_hs)\n",
    "        # Attn 4: Sum up weighted vectors(allignment vectors) to get a context vector\n",
    "            #then feed this back to the decoder.\n",
    "        context_vector = torch.sum(weighted_enc_hs, dim=0)#sum along rows\n",
    "        #print(\"context vector\",context_vector)\n",
    "        reshaped_cv = context_vector.view(1,1,self.hidden_size)\n",
    "        #print(\"reshaped cv\",reshaped_cv.size())\n",
    "        decoded_input_w_attn,_ = self.rnn(reshaped_cv)\n",
    "        #print(decoded_input_w_attn.size())\n",
    "        decoded_input = decoded_input_w_attn.squeeze(0)\n",
    "        #print(decoded_input.size())\n",
    "        decoded_input = self.fc_out(decoded_input_w_attn)\n",
    "        #print(decoded_input.size())\n",
    "        return decoded_input\n",
    "\n",
    "class SimpleEncDecRNN(nn.Module):\n",
    "    def __init__(self, input_size, hidden_size):\n",
    "        super(SimpleEncDecRNN, self).__init__()\n",
    "        self.encoder = SimpleEncoderRNN(input_size, hidden_size)\n",
    "        self.decoder = SimpleDecoderRNN(hidden_size, hidden_size)\n",
    "        \n",
    "    def forward(self, src):\n",
    "        encoded_input = self.encoder(src)\n",
    "        decoded_output = self.decoder(encoded_input)\n",
    "        return decoded_output"
   ]
  },
  {
   "cell_type": "code",
   "execution_count": 135,
   "metadata": {},
   "outputs": [],
   "source": [
    "torch.manual_seed(423)\n",
    "inp_size = 1\n",
    "hidden_size = 4\n",
    "rnn_ae = SimpleEncDecRNN(inp_size,hidden_size).to(device)\n",
    "\n",
    "sequence = torch.randint(8,(2,8,1)).to(device) # extra dimension needed cause Elman RNN assumes we go from predict one\n",
    "#element of a sequence at a time."
   ]
  },
  {
   "cell_type": "code",
   "execution_count": 59,
   "metadata": {},
   "outputs": [],
   "source": [
    "# #can I reconstruct that sequence?\n",
    "# enc_rnn = nn.RNN(1,4,batch_first=True).to(device)\n",
    "# output,hidden = enc_rnn(sequence)# output=[batch,seq_len,hidden_size]\n",
    "# output.size(),hidden.size(),output,hidden"
   ]
  },
  {
   "cell_type": "code",
   "execution_count": 60,
   "metadata": {},
   "outputs": [],
   "source": [
    "# dec_rnn = nn.RNN(4,4,batch_first=True).to(device)\n",
    "# dec_out,dec_hidden = dec_rnn(output)\n",
    "# dec_out.size(),dec_hidden.size()"
   ]
  },
  {
   "cell_type": "code",
   "execution_count": 61,
   "metadata": {},
   "outputs": [],
   "source": [
    "# all_enc_out = output.contiguous().view(-1)\n",
    "# all_dec_out = dec_hidden.contiguous().view(-1)\n",
    "# #torch.dot(all_enc_out,all_dec_out)"
   ]
  },
  {
   "cell_type": "code",
   "execution_count": 140,
   "metadata": {},
   "outputs": [
    {
     "name": "stdout",
     "output_type": "stream",
     "text": [
      "Reconstruction Loss after epoch 0: 0.0001411706325598061\n",
      "-----------------------------------------------\n",
      "Reconstruction Loss after epoch 500: 1.9542374662950834e-11\n",
      "-----------------------------------------------\n",
      "Reconstruction Loss after epoch 1000: 1.1116901177388172e-08\n",
      "-----------------------------------------------\n",
      "Reconstruction Loss after epoch 1500: 1.4000502979172325e-09\n",
      "-----------------------------------------------\n"
     ]
    }
   ],
   "source": [
    "# training?\n",
    "reconstruct_criterion= nn.MSELoss()\n",
    "ae_optimizer = optim.Adam(rnn_ae.parameters(), lr=0.01)\n",
    "for i in range(2000):# 5 epochs.\n",
    "    for seq in sequence:\n",
    "        #print(str(seq.unsqueeze(0).size())+\"\\n\")\n",
    "        src = seq.unsqueeze(0)\n",
    "        rnn_ae.train()\n",
    "        # zero the parameter gradients/\n",
    "        ae_optimizer.zero_grad()\n",
    "        # forward + backward + optimize\n",
    "        #print(src.size())\n",
    "        src_hat = rnn_ae(src)\n",
    "        rec_loss = reconstruct_criterion(src_hat,src.squeeze(2).unsqueeze(0)) # smh     \n",
    "        rec_loss.backward()\n",
    "        ae_optimizer.step()\n",
    "    if i%500==0:\n",
    "        print('Reconstruction Loss after epoch '+str(i)+':',rec_loss.item())\n",
    "        print('-----------------------------------------------')"
   ]
  },
  {
   "cell_type": "code",
   "execution_count": 143,
   "metadata": {},
   "outputs": [
    {
     "data": {
      "text/plain": [
       "tensor([[2.],\n",
       "        [6.],\n",
       "        [2.],\n",
       "        [5.],\n",
       "        [7.],\n",
       "        [0.],\n",
       "        [0.],\n",
       "        [7.]])"
      ]
     },
     "execution_count": 143,
     "metadata": {},
     "output_type": "execute_result"
    }
   ],
   "source": [
    "sequence[0]"
   ]
  },
  {
   "cell_type": "code",
   "execution_count": 142,
   "metadata": {},
   "outputs": [
    {
     "data": {
      "text/plain": [
       "tensor([[[2.0000e+00, 6.0000e+00, 2.0000e+00, 5.0000e+00, 7.0000e+00,\n",
       "          5.9009e-06, 1.0081e-05, 7.0000e+00]]], grad_fn=<ThAddBackward>)"
      ]
     },
     "execution_count": 142,
     "metadata": {},
     "output_type": "execute_result"
    }
   ],
   "source": [
    "rnn_ae(sequence[0].unsqueeze(0))"
   ]
  },
  {
   "cell_type": "code",
   "execution_count": null,
   "metadata": {},
   "outputs": [],
   "source": []
  }
 ],
 "metadata": {
  "kernelspec": {
   "display_name": "Python 3",
   "language": "python",
   "name": "python3"
  },
  "language_info": {
   "codemirror_mode": {
    "name": "ipython",
    "version": 3
   },
   "file_extension": ".py",
   "mimetype": "text/x-python",
   "name": "python",
   "nbconvert_exporter": "python",
   "pygments_lexer": "ipython3",
   "version": "3.7.1"
  }
 },
 "nbformat": 4,
 "nbformat_minor": 2
}
