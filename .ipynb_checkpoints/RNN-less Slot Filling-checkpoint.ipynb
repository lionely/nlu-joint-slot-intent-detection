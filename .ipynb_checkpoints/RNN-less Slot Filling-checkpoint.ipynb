{
 "cells": [
  {
   "cell_type": "markdown",
   "metadata": {},
   "source": [
    "# Importing Libraries"
   ]
  },
  {
   "cell_type": "code",
   "execution_count": 1,
   "metadata": {},
   "outputs": [],
   "source": [
    "from utils import *\n",
    "from sklearn.manifold import TSNE\n",
    "from datetime import datetime\n",
    "from time import time"
   ]
  },
  {
   "cell_type": "code",
   "execution_count": 2,
   "metadata": {},
   "outputs": [],
   "source": [
    "MAX_LENGTH = 50\n",
    "device = torch.device('cuda' if torch.cuda.is_available() else 'cpu')"
   ]
  },
  {
   "cell_type": "markdown",
   "metadata": {},
   "source": [
    "## Reading the Data In\n",
    "We are using the Air Travel Information System (ATIS) dataset(I believe it is originally from UPenn, need to verify)\n",
    "It uses the Inside-Out-Beginning tag format(IOB) described here : https://en.wikipedia.org/wiki/Inside%E2%80%93outside%E2%80%93beginning_(tagging)\n",
    "\n",
    "The typical structure is:\n",
    "\n",
    "Sentence (tokens), Slots to match each token, Intent.\n",
    "\n",
    "Found a preprocessed atis file from, thanks to: https://github.com/D2KLab/botcycle/tree/master/nlu/data/atis\n"
   ]
  },
  {
   "cell_type": "code",
   "execution_count": 3,
   "metadata": {},
   "outputs": [],
   "source": [
    "with open('data/preprocessed/fold_train.json', 'r') as f:\n",
    "    atis_json = json.load(f)"
   ]
  },
  {
   "cell_type": "code",
   "execution_count": 4,
   "metadata": {},
   "outputs": [],
   "source": [
    "#atis_json['data'][0]"
   ]
  },
  {
   "cell_type": "markdown",
   "metadata": {},
   "source": [
    "# Data Preprocessing"
   ]
  },
  {
   "cell_type": "code",
   "execution_count": 4,
   "metadata": {},
   "outputs": [],
   "source": [
    "def flatten(list_of_lists):\n",
    "    \"\"\"Flattens from two-dimensional list to one-dimensional list\"\"\"\n",
    "    return [item for sublist in list_of_lists for item in sublist]"
   ]
  },
  {
   "cell_type": "code",
   "execution_count": 5,
   "metadata": {},
   "outputs": [],
   "source": [
    "def adjust_sequences(data, length=MAX_LENGTH):\n",
    "    \"\"\"\n",
    "    Fixes the input and output sequences length, adding padding or truncating if necessary\n",
    "    :param data json file containing entries from atis dataset.\n",
    "    :param length the fixed length of the sentence.\n",
    "    \"\"\"\n",
    "    for sample in data['data']:\n",
    "        # adjust the sequence of input words\n",
    "        if len(sample['words']) < length:\n",
    "            # add <EOS> and <PAD> if sentence is shorter than maximum length\n",
    "            sample['words'].append('<EOS>')\n",
    "            while len(sample['words']) < length:\n",
    "                sample['words'].append('<PAD>')\n",
    "        else:\n",
    "            # otherwise truncate and add <EOS> at last position\n",
    "            sample['words'] = sample['words'][:length]\n",
    "            sample['words'][-1] = '<EOS>'\n",
    "\n",
    "        # adjust in the same way the sequence of output slots\n",
    "        if len(sample['slots']) < length:\n",
    "            sample['slots'].append('<EOS>')\n",
    "            while len(sample['slots']) < length:\n",
    "                sample['slots'].append('<PAD>')\n",
    "        else:\n",
    "            sample['slots'] = sample['slots'][:length]\n",
    "            sample['slots'][-1] = '<EOS>'\n",
    "\n",
    "    return data"
   ]
  },
  {
   "cell_type": "code",
   "execution_count": 9,
   "metadata": {},
   "outputs": [],
   "source": [
    "def get_vocabularies(train_data):\n",
    "    \"\"\"\n",
    "    Collect the input vocabulary, the slot vocabulary and the intent vocabulary\n",
    "    :param train_data the training data containing words,slots and intent.\n",
    "    \"\"\"\n",
    "    # from a list of training examples, get three lists (columns)\n",
    "    data = train_data['data']\n",
    "    seq_in = [sample['words'] for sample in data]\n",
    "    vocab = flatten(seq_in)\n",
    "    # removing duplicated but keeping the order\n",
    "    v = ['<PAD>', '<SOS>', '<EOS>'] + vocab\n",
    "    vocab = sorted(set(v), key=lambda x: v.index(x)) # https://docs.python.org/3.3/howto/sorting.html\n",
    "    s = ['<PAD>','<EOS>'] + train_data['meta']['slot_types']\n",
    "    slot_tag = sorted(set(s), key=lambda x: s.index(x))\n",
    "    i = train_data['meta']['intent_types']\n",
    "    intent_tag = sorted(set(i), key=lambda x: i.index(x))\n",
    "\n",
    "    return vocab, slot_tag, intent_tag"
   ]
  },
  {
   "cell_type": "code",
   "execution_count": 10,
   "metadata": {},
   "outputs": [],
   "source": [
    "adjusted_atis = adjust_sequences(atis_json)#padded"
   ]
  },
  {
   "cell_type": "code",
   "execution_count": 11,
   "metadata": {},
   "outputs": [],
   "source": [
    "atis_vocab,atis_slots,atis_intents = get_vocabularies(adjusted_atis)"
   ]
  },
  {
   "cell_type": "code",
   "execution_count": 12,
   "metadata": {},
   "outputs": [
    {
     "data": {
      "text/plain": [
       "(870, 122, 21)"
      ]
     },
     "execution_count": 12,
     "metadata": {},
     "output_type": "execute_result"
    }
   ],
   "source": [
    "len(atis_vocab),len(atis_slots),len(atis_intents)"
   ]
  },
  {
   "cell_type": "code",
   "execution_count": 13,
   "metadata": {},
   "outputs": [
    {
     "data": {
      "text/plain": [
       "'atis_flight'"
      ]
     },
     "execution_count": 13,
     "metadata": {},
     "output_type": "execute_result"
    }
   ],
   "source": [
    "adjusted_atis['data'][0]['intent']"
   ]
  },
  {
   "cell_type": "markdown",
   "metadata": {},
   "source": [
    "# Next we need to embed the data and set it up for Pytorch\n",
    "Remember each vocabulary for each sentence, slot and intent will have different embeddings. They are different sized vectors. The Network will try to figure out a mapping from these different vector spaces."
   ]
  },
  {
   "cell_type": "code",
   "execution_count": 14,
   "metadata": {},
   "outputs": [],
   "source": [
    "def create_mappings(vocab,forward_map):\n",
    "    \"\"\"\n",
    "    This function takes the words in the vocabulary and creates a unique mapping to a number.\n",
    "    :param vocab contains all the words in the corpus.\n",
    "    :param forward_map a dictionary that will be populated with mappings.\n",
    "    returns populated forward_map\n",
    "    \"\"\"\n",
    "    for sample in vocab:\n",
    "        if sample not in forward_map.keys():\n",
    "            forward_map[sample]= len(forward_map)\n",
    "            \n",
    "    return forward_map"
   ]
  },
  {
   "cell_type": "code",
   "execution_count": 15,
   "metadata": {},
   "outputs": [],
   "source": [
    "SOS_token = 2\n",
    "EOS_token = 3\n",
    "word2index = {'<PAD>': 0, '<UNK>':1,'<SOS>':2,'<EOS>':3}\n",
    "create_mappings(atis_vocab,word2index)\n",
    "index2word = {v:k for k,v in word2index.items()}"
   ]
  },
  {
   "cell_type": "code",
   "execution_count": 16,
   "metadata": {},
   "outputs": [],
   "source": [
    "tag2index = {'<PAD>' : 0,'<UNK>':1,'<EOS>':2}\n",
    "create_mappings(atis_slots,tag2index)\n",
    "index2tag = {v:k for k,v in tag2index.items()}"
   ]
  },
  {
   "cell_type": "code",
   "execution_count": 17,
   "metadata": {},
   "outputs": [],
   "source": [
    "intent2index={}\n",
    "create_mappings(atis_intents,intent2index)\n",
    "index2intent = {v:k for k,v in intent2index.items()}"
   ]
  },
  {
   "cell_type": "code",
   "execution_count": 16,
   "metadata": {},
   "outputs": [],
   "source": [
    "#intent2index\n",
    "#len(word2index)\n",
    "#len(tag2index)\n",
    "#index2tag\n",
    "#index2intent\n",
    "#index2intent"
   ]
  },
  {
   "cell_type": "markdown",
   "metadata": {},
   "source": [
    "### Next we create a Tensor where each row is a mapped/embedded sequence"
   ]
  },
  {
   "cell_type": "code",
   "execution_count": 18,
   "metadata": {},
   "outputs": [],
   "source": [
    "def prepare_sequence(seq_data, mapping,map_type):\n",
    "    \"\"\"\n",
    "    :param seq a sequnce which will be embedded as a vector\n",
    "    :param mapping, a dictionary which contains how each element in the seq will be mapped to a number.\n",
    "    :param map_type 'words','slots' or 'intent'\n",
    "    returns a Pytorch Tensor.\n",
    "    \"\"\"\n",
    "    if map_type=='intent':\n",
    "        intent = seq_data[map_type]\n",
    "        embeddings = mapping[intent] if intent in mapping.keys() else -1 #mapping[\"<UNK>\"]\n",
    "        return torch.tensor(embeddings)   \n",
    "    else:\n",
    "        embed_fnc = lambda word: mapping[word] if word in mapping.keys() else mapping[\"<UNK>\"]\n",
    "        embeddings = list(map(embed_fnc, seq_data[map_type])) \n",
    "        return torch.LongTensor(embeddings)"
   ]
  },
  {
   "cell_type": "code",
   "execution_count": 19,
   "metadata": {},
   "outputs": [],
   "source": [
    "def create_training_set(padded_atis):\n",
    "    \"\"\"\n",
    "    :param padded_atis, this is padded sequence data.\n",
    "           Of the form seq,slots,intent. This function coverts \n",
    "           these into tensors.\n",
    "    return train_data; [(seq_tensor,slot_tensor,intent_tensor)]\n",
    "    \"\"\"\n",
    "    train_data = []\n",
    "    atis_data = padded_atis['data']\n",
    "    for i in range(len(atis_data)):\n",
    "        seq_tensor = prepare_sequence(atis_data[i],word2index,'words')\n",
    "        slot_tensor = prepare_sequence(atis_data[i],tag2index,'slots')\n",
    "        intent_tensor = prepare_sequence(atis_data[i],intent2index,'intent')\n",
    "        train_data.append((seq_tensor,slot_tensor,intent_tensor))\n",
    "    return train_data"
   ]
  },
  {
   "cell_type": "code",
   "execution_count": 20,
   "metadata": {},
   "outputs": [],
   "source": [
    "train_data = create_training_set(adjusted_atis)"
   ]
  },
  {
   "cell_type": "code",
   "execution_count": 20,
   "metadata": {},
   "outputs": [],
   "source": [
    "#train_data[0]"
   ]
  },
  {
   "cell_type": "markdown",
   "metadata": {},
   "source": [
    "### Distribution of Slots "
   ]
  },
  {
   "cell_type": "code",
   "execution_count": 21,
   "metadata": {},
   "outputs": [],
   "source": [
    "slot_data = []\n",
    "for i in train_data:\n",
    "    slot_data.append(i[0].numpy())\n",
    "#sns.barplot(x=train_data[])"
   ]
  },
  {
   "cell_type": "code",
   "execution_count": 22,
   "metadata": {},
   "outputs": [
    {
     "name": "stderr",
     "output_type": "stream",
     "text": [
      "/home/superior/anaconda3/lib/python3.7/site-packages/scipy/stats/stats.py:1713: FutureWarning: Using a non-tuple sequence for multidimensional indexing is deprecated; use `arr[tuple(seq)]` instead of `arr[seq]`. In the future this will be interpreted as an array index, `arr[np.array(seq)]`, which will result either in an error or a different result.\n",
      "  return np.add.reduce(sorted[indexer] * weights, axis=axis) / sumval\n"
     ]
    },
    {
     "data": {
      "text/plain": [
       "<matplotlib.axes._subplots.AxesSubplot at 0x7f5bcf7785f8>"
      ]
     },
     "execution_count": 22,
     "metadata": {},
     "output_type": "execute_result"
    },
    {
     "data": {
      "image/png": "[encoded data removed]",
      "text/plain": [
       "<Figure size 432x288 with 1 Axes>"
      ]
     },
     "metadata": {
      "needs_background": "light"
     },
     "output_type": "display_data"
    }
   ],
   "source": [
    "all_slot_data = np.concatenate(slot_data)\n",
    "sns.distplot(all_slot_data)"
   ]
  },
  {
   "cell_type": "markdown",
   "metadata": {},
   "source": [
    "### Batching the data"
   ]
  },
  {
   "cell_type": "code",
   "execution_count": 23,
   "metadata": {},
   "outputs": [],
   "source": [
    "def concatenate_batch(batch):\n",
    "#     print(len(batch), len(batch[0]))\n",
    "    #     print([ex[0] for ex in batch])\n",
    "    seqs = torch.stack([ex[0] for ex in batch])\n",
    "    slots = torch.stack([ex[1] for ex in batch])\n",
    "    intents = torch.stack([ex[2] for ex in batch])\n",
    "   \n",
    "    return seqs,slots,intents"
   ]
  },
  {
   "cell_type": "code",
   "execution_count": 24,
   "metadata": {},
   "outputs": [],
   "source": [
    "def get_batches(batch_size, train_data):\n",
    "    \"\"\"\n",
    "    Returns iteratively a batch of specified size on the data. \n",
    "    The last batch can be smaller if the total size is not multiple of the batch\n",
    "    \"\"\"\n",
    "    random.shuffle(train_data)\n",
    "    sindex = 0\n",
    "    eindex = batch_size\n",
    "    while sindex < len(train_data):\n",
    "        batch = train_data[sindex:eindex] #list of batch_size num of tuples.\n",
    "        temp = eindex\n",
    "        eindex = eindex + batch_size\n",
    "        sindex = temp\n",
    "        #print('returning', len(batch), 'samples')\n",
    "        yield concatenate_batch(batch)"
   ]
  },
  {
   "cell_type": "code",
   "execution_count": 25,
   "metadata": {},
   "outputs": [],
   "source": [
    "# batches = get_batches(5,train_data[:10])\n",
    "# list(batches)[0][0].size()"
   ]
  },
  {
   "cell_type": "code",
   "execution_count": null,
   "metadata": {},
   "outputs": [],
   "source": []
  },
  {
   "cell_type": "markdown",
   "metadata": {},
   "source": [
    "# Building Joint -RNNless Model"
   ]
  },
  {
   "cell_type": "code",
   "execution_count": 25,
   "metadata": {},
   "outputs": [],
   "source": [
    "class Encoder(nn.Module):\n",
    "    \"\"\"\n",
    "    An encoder/decoder that\n",
    "    takes a batch of sequences embeds the sequence and\n",
    "    then runs it through a fully connected layer to predict slots and intent.\n",
    "    \"\"\"\n",
    "    def __init__(self,input_dim,slot_dim,intent_dim,emb_dim):\n",
    "        super(Encoder, self).__init__()\n",
    "        self.input_dim = input_dim\n",
    "        self.emb_dim = emb_dim\n",
    "        self.slot_dim = slot_dim\n",
    "        self.intent_dim = intent_dim\n",
    "        \n",
    "        self.embedding = nn.Embedding(input_dim, emb_dim)\n",
    "        \n",
    "        self.slot_fc = nn.Linear(emb_dim,slot_dim)\n",
    "        self.intent_fc = nn.Linear(emb_dim,intent_dim)\n",
    "        \n",
    "    def forward(self,src):\n",
    "        embedded = self.embedding(src)# get embedding for a word\n",
    "        #print(embedded.size())\n",
    "        slots = self.slot_fc(embedded)# then predict a slot using fc\n",
    "        \n",
    "        # Need average embedding for a sequence\n",
    "        avg_embedding = embedded.mean(dim=1) #[50,5]-> [5] because don't have 50 different elements anymore just one.\n",
    "        #print('embed',embedded.size())\n",
    "        #print('avg embed:',avg_embedding.size())\n",
    "        intent = self.intent_fc(avg_embedding)\n",
    "        #print('intent pred',intent.size())\n",
    "        # then put average embedding into intent fc\n",
    "        \n",
    "        return slots,intent,embedded"
   ]
  },
  {
   "cell_type": "code",
   "execution_count": 26,
   "metadata": {},
   "outputs": [
    {
     "name": "stdout",
     "output_type": "stream",
     "text": [
      "Testing models...\n",
      "Inp:  871 Slotdim:  123\n"
     ]
    }
   ],
   "source": [
    "print(\"Testing models...\")\n",
    "n_layers = 1\n",
    "INPUT_DIM = len(word2index)\n",
    "SLOT_DIM = len(tag2index)\n",
    "print('Inp: ',INPUT_DIM,'Slotdim: ',SLOT_DIM)\n",
    "INTENT_DIM = len(index2intent)\n",
    "embed_size = 5\n",
    "inp = get_batches(1,train_data[:1])\n",
    "encoder = Encoder(INPUT_DIM,SLOT_DIM,INTENT_DIM,embed_size)\n",
    "# testing avg embedding\n",
    "for data in inp:\n",
    "    input,label,real_intent = data[0],data[1],data[2]#.type(torch.FloatTensor)\n",
    "    slot,intent,_ = encoder(input)\n",
    "    slot = torch.argmax(slot,dim=2)\n",
    "    test_criterion = nn.CrossEntropyLoss()\n",
    "#     print(real_intent.size(),intent.size())\n",
    "#     print('real intent',real_intent,'predicted intent',intent)\n",
    "    test_criterion(intent,real_intent)\n",
    "    #intent = torch.argmax(intent,dim=1).type(torch.FloatTensor)\n",
    "    #print(slot.size())\n",
    "    #print(intent.size())\n",
    "#batches = get_batches(5,train_data[:10]) # to get each representation of a word."
   ]
  },
  {
   "cell_type": "code",
   "execution_count": 27,
   "metadata": {},
   "outputs": [
    {
     "data": {
      "text/plain": [
       "tensor(3.5487, grad_fn=<NllLossBackward>)"
      ]
     },
     "execution_count": 27,
     "metadata": {},
     "output_type": "execute_result"
    }
   ],
   "source": [
    "test_criterion = nn.CrossEntropyLoss()\n",
    "real_intent,intent\n",
    "test_criterion(intent,real_intent)"
   ]
  },
  {
   "cell_type": "markdown",
   "metadata": {},
   "source": [
    "# Attempting to Train the encoder"
   ]
  },
  {
   "cell_type": "code",
   "execution_count": 28,
   "metadata": {},
   "outputs": [],
   "source": [
    "encoder = Encoder(INPUT_DIM,SLOT_DIM,INTENT_DIM,embed_size).to(device)\n",
    "criterion = nn.CrossEntropyLoss(ignore_index=0)#ignore <pad>\n",
    "optimizer = optim.Adam(encoder.parameters(), lr=0.01)"
   ]
  },
  {
   "cell_type": "code",
   "execution_count": 29,
   "metadata": {},
   "outputs": [
    {
     "data": {
      "text/plain": [
       "21"
      ]
     },
     "execution_count": 29,
     "metadata": {},
     "output_type": "execute_result"
    }
   ],
   "source": [
    "len(atis_intents)"
   ]
  },
  {
   "cell_type": "code",
   "execution_count": 30,
   "metadata": {},
   "outputs": [
    {
     "name": "stdout",
     "output_type": "stream",
     "text": [
      "Slot Loss after epoch 0: 3.0639545917510986\n",
      "Intent Loss after epoch 0: 1.0851507186889648\n",
      "-----------------------------------------------\n",
      "Slot Loss after epoch 10: 0.37840524315834045\n",
      "Intent Loss after epoch 10: 1.0768181085586548\n",
      "-----------------------------------------------\n",
      "Slot Loss after epoch 20: 0.280119925737381\n",
      "Intent Loss after epoch 20: 0.6756882667541504\n",
      "-----------------------------------------------\n",
      "Slot Loss after epoch 30: 0.2897266745567322\n",
      "Intent Loss after epoch 30: 0.6802972555160522\n",
      "-----------------------------------------------\n",
      "Slot Loss after epoch 40: 0.23831184208393097\n",
      "Intent Loss after epoch 40: 0.349143385887146\n",
      "-----------------------------------------------\n",
      "Slot Loss after epoch 50: 0.22535546123981476\n",
      "Intent Loss after epoch 50: 0.28220343589782715\n",
      "-----------------------------------------------\n",
      "Slot Loss after epoch 60: 0.25086498260498047\n",
      "Intent Loss after epoch 60: 0.3166661560535431\n",
      "-----------------------------------------------\n",
      "Slot Loss after epoch 70: 0.23600710928440094\n",
      "Intent Loss after epoch 70: 0.1476728469133377\n",
      "-----------------------------------------------\n",
      "Slot Loss after epoch 80: 0.27059778571128845\n",
      "Intent Loss after epoch 80: 0.13761460781097412\n",
      "-----------------------------------------------\n",
      "Slot Loss after epoch 90: 0.25515463948249817\n",
      "Intent Loss after epoch 90: 0.12586012482643127\n",
      "-----------------------------------------------\n",
      "Slot Loss after epoch 100: 0.2557666003704071\n",
      "Intent Loss after epoch 100: 0.17974412441253662\n",
      "-----------------------------------------------\n",
      "Slot Loss after epoch 110: 0.26221343874931335\n",
      "Intent Loss after epoch 110: 0.07133463025093079\n",
      "-----------------------------------------------\n",
      "Slot Loss after epoch 120: 0.2509031295776367\n",
      "Intent Loss after epoch 120: 0.036492086946964264\n",
      "-----------------------------------------------\n",
      "Slot Loss after epoch 130: 0.24695779383182526\n",
      "Intent Loss after epoch 130: 0.1017121970653534\n",
      "-----------------------------------------------\n",
      "Slot Loss after epoch 140: 0.22282655537128448\n",
      "Intent Loss after epoch 140: 0.08589327335357666\n",
      "-----------------------------------------------\n",
      "Slot Loss after epoch 150: 0.24668250977993011\n",
      "Intent Loss after epoch 150: 0.04128048196434975\n",
      "-----------------------------------------------\n",
      "Slot Loss after epoch 160: 0.23160114884376526\n",
      "Intent Loss after epoch 160: 0.05035638436675072\n",
      "-----------------------------------------------\n",
      "Slot Loss after epoch 170: 0.23070763051509857\n",
      "Intent Loss after epoch 170: 0.06707968562841415\n",
      "-----------------------------------------------\n",
      "Slot Loss after epoch 180: 0.22016026079654694\n",
      "Intent Loss after epoch 180: 0.05569380149245262\n",
      "-----------------------------------------------\n",
      "Slot Loss after epoch 190: 0.23668785393238068\n",
      "Intent Loss after epoch 190: 0.06749910116195679\n",
      "-----------------------------------------------\n"
     ]
    }
   ],
   "source": [
    "batch_size = 128\n",
    "max_length = 50\n",
    "INPUT_DIM = len(word2index)#\n",
    "SLOT_DIM = len(tag2index)\n",
    "INTENT_DIM = len(index2intent)\n",
    "embed_size = 5\n",
    "num_epochs = 200\n",
    "\n",
    "for epoch in range(num_epochs):\n",
    "    inp = get_batches(batch_size,train_data)\n",
    "    encoder.train()\n",
    "    for data in inp:\n",
    "        # get the inputs\n",
    "        inputs, labels, intents = data[0],data[1],data[2]\n",
    "        inputs = inputs.type(torch.LongTensor).to(device)\n",
    "        labels = labels.type(torch.LongTensor).view(-1).to(device) #squashing\n",
    "        intents = intents.to(device)#.type(torch.FloatTensor)\n",
    "\n",
    "        # zero the parameter gradients\n",
    "        optimizer.zero_grad()\n",
    "\n",
    "        # forward + backward + optimize\n",
    "        out_slots, out_intents,_ = encoder(inputs)\n",
    "        out_slots = out_slots.view(-1,123)\n",
    "        \n",
    "        slot_loss = criterion(out_slots, labels)\n",
    "        intent_loss = criterion(out_intents, intents) \n",
    "        \n",
    "        slot_loss.backward(retain_graph=True)\n",
    "        intent_loss.backward()\n",
    "        optimizer.step()\n",
    "    if epoch%10==0:\n",
    "        print('Slot Loss after epoch '+str(epoch)+':',slot_loss.item())\n",
    "        print('Intent Loss after epoch '+str(epoch)+':',intent_loss.item())\n",
    "        print('-----------------------------------------------')"
   ]
  },
  {
   "cell_type": "markdown",
   "metadata": {},
   "source": [
    "## Evaluation of Encoder\n",
    "\n",
    " \n",
    "### TODO: Average F1 metric across all the classes.\n",
    " "
   ]
  },
  {
   "cell_type": "code",
   "execution_count": 31,
   "metadata": {},
   "outputs": [],
   "source": [
    "with open('data/preprocessed/fold_test.json', 'r') as f:\n",
    "    atis_test_json = json.load(f)"
   ]
  },
  {
   "cell_type": "code",
   "execution_count": 32,
   "metadata": {},
   "outputs": [],
   "source": [
    "#atis_test_json['data'][0]"
   ]
  },
  {
   "cell_type": "code",
   "execution_count": 33,
   "metadata": {},
   "outputs": [],
   "source": [
    "adjusted_atis_test = adjust_sequences(atis_test_json)#padded"
   ]
  },
  {
   "cell_type": "code",
   "execution_count": 34,
   "metadata": {},
   "outputs": [],
   "source": [
    "test_vocab,test_slots,test_intents = get_vocabularies(adjusted_atis_test)\n",
    "#test_intents,index2intent"
   ]
  },
  {
   "cell_type": "code",
   "execution_count": 35,
   "metadata": {},
   "outputs": [],
   "source": [
    "test_data = create_training_set(adjusted_atis_test) # should we cr"
   ]
  },
  {
   "cell_type": "code",
   "execution_count": 36,
   "metadata": {},
   "outputs": [
    {
     "data": {
      "text/plain": [
       "500"
      ]
     },
     "execution_count": 36,
     "metadata": {},
     "output_type": "execute_result"
    }
   ],
   "source": [
    "len(test_data)#[0][1]"
   ]
  },
  {
   "cell_type": "code",
   "execution_count": 37,
   "metadata": {},
   "outputs": [],
   "source": [
    "#Exclude pad \n",
    "def calc_bat_fscores(y_pred,y_true,predict_type='slot'):\n",
    "    \"\"\"\n",
    "    Calc average f score for a batch.\n",
    "    compares each predicted output in a batch to actual output.\n",
    "    Then averages that.\n",
    "    \"\"\"\n",
    "    batch_avg_f = []\n",
    "    keep_slots = [i for i in tag2index.values() if i > 2]\n",
    "    if predict_type=='slot':\n",
    "        for pred_i in range(len(y_pred)):# range batch size\n",
    "            #print(y_pred[pred_i].size())\n",
    "            f_score = f1_score(y_true[pred_i], y_pred[pred_i],labels=keep_slots, average ='micro')  \n",
    "            batch_avg_f.append(f_score)\n",
    "    else:\n",
    "        return f1_score(y_true,y_pred,average ='micro')\n",
    "    return np.mean(batch_avg_f)"
   ]
  },
  {
   "cell_type": "code",
   "execution_count": 38,
   "metadata": {},
   "outputs": [],
   "source": [
    "import warnings\n",
    "warnings.filterwarnings('ignore')# get a lot of warnings because some labels are not predicted..."
   ]
  },
  {
   "cell_type": "code",
   "execution_count": 39,
   "metadata": {},
   "outputs": [
    {
     "name": "stdout",
     "output_type": "stream",
     "text": [
      "Mean Slot F Metric : 0.31948457511209205\n",
      "-----------------------------------------------\n",
      "Mean Intent F Metric : 0.9019999999999999\n"
     ]
    }
   ],
   "source": [
    "inp = get_batches(100,test_data)\n",
    "encoder.eval()\n",
    "f_slot_scores = []\n",
    "f_intent_scores = []\n",
    "for data in inp:\n",
    "    # get the inputs\n",
    "    inputs, labels , true_intents = data[0],data[1],data[2]\n",
    "    inputs = inputs.type(torch.LongTensor).to(device)\n",
    "    labels = labels.to(device)\n",
    "    true_intents = true_intents.to(device)\n",
    "    \n",
    "#     if USE_CUDA and torch.cuda.is_available():\n",
    "#         inputs = inputs.cuda()\n",
    "#         labels = labels.cuda()\n",
    "    \n",
    "    slots ,intents, slot_embedding = encoder(inputs)\n",
    "    y_pred_slots = torch.argmax(slots,dim=2)\n",
    "    f_slot_scores.append(calc_bat_fscores(y_pred_slots,labels))\n",
    "    y_pred_intents = torch.argmax(intents,dim=1)\n",
    "    #print(y_pred_intents)\n",
    "    #print(true_intents)\n",
    "    #print(list(zip(true_intents.tolist(), y_pred_intents.tolist())))\n",
    "    f_intent_scores.append(calc_bat_fscores(y_pred_intents,true_intents,predict_type='intent'))\n",
    "print('Mean Slot F Metric :',np.mean(f_slot_scores))\n",
    "print('-----------------------------------------------')\n",
    "print('Mean Intent F Metric :',np.mean(f_intent_scores))"
   ]
  },
  {
   "cell_type": "code",
   "execution_count": 41,
   "metadata": {},
   "outputs": [],
   "source": [
    "#  # Change line width\n",
    "# plt.xlabel('Slot F1-Scores')\n",
    "# sns.boxplot(y = f_slot_scores, linewidth=1,width=0.05)"
   ]
  },
  {
   "cell_type": "markdown",
   "metadata": {},
   "source": [
    "# Confusion Matrix For Intents since there are much less "
   ]
  },
  {
   "cell_type": "code",
   "execution_count": 40,
   "metadata": {},
   "outputs": [],
   "source": [
    "def categoryFromOutput(output):\n",
    "    category_i = output.item()\n",
    "    return index2intent[category_i], category_i"
   ]
  },
  {
   "cell_type": "code",
   "execution_count": 45,
   "metadata": {},
   "outputs": [
    {
     "name": "stdout",
     "output_type": "stream",
     "text": [
      "torch.Size([1, 50, 123])\n",
      "tensor(1, device='cuda:0')\n",
      "('atis_aircraft', 1)\n"
     ]
    }
   ],
   "source": [
    "for data in get_batches(1,test_data[0:1]):\n",
    "    input,_,intent = data[0],data[1],data[2]\n",
    "    input = input.to(device)\n",
    "    #print(input.size())\n",
    "    output,intent_pred,_  = encoder(input)\n",
    "    predictions = torch.argmax(intent_pred,dim=1)[0]\n",
    "    print(output.size())\n",
    "    print(predictions)\n",
    "    print(categoryFromOutput(predictions))\n"
   ]
  },
  {
   "cell_type": "code",
   "execution_count": 46,
   "metadata": {},
   "outputs": [
    {
     "data": {
      "text/plain": [
       "21"
      ]
     },
     "execution_count": 46,
     "metadata": {},
     "output_type": "execute_result"
    }
   ],
   "source": [
    "all_categories = []\n",
    "for category in intent2index.values():\n",
    "    all_categories.append(category)\n",
    "len(all_categories)"
   ]
  },
  {
   "cell_type": "code",
   "execution_count": 47,
   "metadata": {},
   "outputs": [],
   "source": [
    "import matplotlib.pyplot as plt\n",
    "import matplotlib.ticker as ticker"
   ]
  },
  {
   "cell_type": "code",
   "execution_count": 50,
   "metadata": {},
   "outputs": [
    {
     "data": {
      "image/png": "[encoded data removed]",
      "text/plain": [
       "<Figure size 432x288 with 2 Axes>"
      ]
     },
     "metadata": {
      "needs_background": "light"
     },
     "output_type": "display_data"
    }
   ],
   "source": [
    "# Keep track of correct guesses in a confusion matrix\n",
    "n_categories = len(all_categories)\n",
    "confusion = torch.zeros(n_categories, n_categories)\n",
    "n_confusion = 5000\n",
    "\n",
    "# Go through a bunch of examples and record which are correctly guessed\n",
    "for data in get_batches(1,train_data):\n",
    "    inputs, labels , true_intents = data[0],data[1],data[2]\n",
    "    inputs = inputs.type(torch.LongTensor).to(device)\n",
    "    labels = labels.to(device)\n",
    "    true_intents = true_intents.to(device)\n",
    "    output,intent_pred,_  = encoder(inputs)\n",
    "    predictions = torch.argmax(intent_pred,dim=1)[0]\n",
    "    #print(predictions, true_intents)\n",
    "    guess, guess_i = categoryFromOutput(predictions)\n",
    "    if true_intents.item()!= -1:#intent is in dataset\n",
    "        category_i = all_categories.index(true_intents)\n",
    "        confusion[category_i][guess_i] += 1\n",
    "\n",
    "# Normalize by dividing every row by its sum\n",
    "for i in range(n_categories):\n",
    "    confusion[i] = confusion[i] / confusion[i].sum()\n",
    "\n",
    "# Set up plot\n",
    "fig = plt.figure()\n",
    "ax = fig.add_subplot(111)\n",
    "cax = ax.matshow(confusion.numpy())\n",
    "fig.colorbar(cax)\n",
    "\n",
    "# Set up axes\n",
    "ax.set_xticklabels([''] + all_categories, rotation=90)\n",
    "ax.set_yticklabels([''] + all_categories) #true\n",
    "\n",
    "# Force label at every tick\n",
    "ax.xaxis.set_major_locator(ticker.MultipleLocator(1))\n",
    "ax.yaxis.set_major_locator(ticker.MultipleLocator(1))\n",
    "\n",
    "# sphinx_gallery_thumbnail_number = 2\n",
    "plt.show()"
   ]
  },
  {
   "cell_type": "markdown",
   "metadata": {},
   "source": [
    "# T-SNE\n",
    "* Starting with 100 samples from the test set\n",
    "* Then keeping track of the labels we pass the samples through our model to get an embedding: [batch size,50,5]\n",
    "* With this embedding we try to drop remove the embeddings of 0 since they will appear often. \n",
    "* With the 0s removed, we apply T-SNE. \n",
    "* Plot the T-SNE embedding."
   ]
  },
  {
   "cell_type": "markdown",
   "metadata": {},
   "source": [
    "# Would a t-SNE visualization be useful?\n",
    "Filter out top ten popular classes in testing set.\n",
    "Then randomly sample slot emebddings from those.\n",
    "Do the t-SNE embedding.\n",
    "Remember embeddings are in order, this helps to label.\n",
    "\n",
    "Looking t-SNE to visualize the results? How do the intent predictions and querie predictions look.\n",
    "Are the intents near the queries when visualized?\n",
    "\n",
    "Put in embedding into t-SNE and hopefully observe spatial semantic labels\n",
    "\n",
    "output should be 870,2\n",
    "\n",
    "color according to slot value and hopefully see color clusters\n",
    "## Next TODO:\n",
    "Get distribution of slots as well\n",
    "\n",
    "Move to RNN next\n",
    "\n",
    "Look up more info about MIT dataset\n"
   ]
  },
  {
   "cell_type": "code",
   "execution_count": 51,
   "metadata": {},
   "outputs": [
    {
     "data": {
      "text/plain": [
       "torch.Size([10, 50, 5])"
      ]
     },
     "execution_count": 51,
     "metadata": {},
     "output_type": "execute_result"
    }
   ],
   "source": [
    "inp = get_batches(10,test_data)\n",
    "encoder.eval()\n",
    "for data in inp:\n",
    "    inputs, labels , true_intents = data[0],data[1],data[2]\n",
    "    inputs = inputs.type(torch.LongTensor).to(device)\n",
    "    slots ,intents, slot_embedding = encoder(inputs)\n",
    "slot_embedding.size()# the way it is now this is embedding of inp[90:100]"
   ]
  },
  {
   "cell_type": "code",
   "execution_count": 53,
   "metadata": {},
   "outputs": [
    {
     "data": {
      "text/plain": [
       "array([-0.32005197,  0.02195179, -0.27103746, -0.8685133 ,  0.13805327],\n",
       "      dtype=float32)"
      ]
     },
     "execution_count": 53,
     "metadata": {},
     "output_type": "execute_result"
    }
   ],
   "source": [
    "pad_as_vector = slot_embedding[0][-1].cpu().detach().numpy()# will always be a pad\n",
    "pad_as_vector#.shape"
   ]
  },
  {
   "cell_type": "code",
   "execution_count": 55,
   "metadata": {},
   "outputs": [],
   "source": [
    "#slot_embedding#.size()\n",
    "reshaped_slot_embed = slot_embedding.reshape(-1,5).cpu().detach().numpy()\n",
    "#reshaped_slot_embed[0]"
   ]
  },
  {
   "cell_type": "code",
   "execution_count": 56,
   "metadata": {},
   "outputs": [],
   "source": [
    "#https://stackoverflow.com/questions/26154711/filter-rows-of-a-numpy-array/26154854\n",
    "def remove_zero_embed(row,zero_embed):\n",
    "    return row != zero_embed\n",
    "bool_arr = np.array([remove_zero_embed(row,pad_as_vector) for row in reshaped_slot_embed])"
   ]
  },
  {
   "cell_type": "code",
   "execution_count": 57,
   "metadata": {},
   "outputs": [],
   "source": [
    "reshaped_slot_wo_zero = reshaped_slot_embed[bool_arr].reshape(-1,5)"
   ]
  },
  {
   "cell_type": "code",
   "execution_count": 58,
   "metadata": {},
   "outputs": [
    {
     "data": {
      "text/plain": [
       "(113, 5)"
      ]
     },
     "execution_count": 58,
     "metadata": {},
     "output_type": "execute_result"
    }
   ],
   "source": [
    "reshaped_slot_wo_zero.shape"
   ]
  },
  {
   "cell_type": "code",
   "execution_count": 59,
   "metadata": {},
   "outputs": [
    {
     "name": "stdout",
     "output_type": "stream",
     "text": [
      "Computing t-SNE embedding\n"
     ]
    }
   ],
   "source": [
    "#https://scikit-learn.org/stable/auto_examples/manifold/plot_lle_digits.html#sphx-glr-auto-examples-manifold-plot-lle-digits-py\n",
    "print(\"Computing t-SNE embedding\")\n",
    "tsne = TSNE(n_components=2,init='pca',random_state=423)"
   ]
  },
  {
   "cell_type": "code",
   "execution_count": 60,
   "metadata": {},
   "outputs": [],
   "source": [
    "X_tsne = tsne.fit_transform(reshaped_slot_wo_zero)"
   ]
  },
  {
   "cell_type": "code",
   "execution_count": 61,
   "metadata": {},
   "outputs": [
    {
     "data": {
      "text/plain": [
       "(113,)"
      ]
     },
     "execution_count": 61,
     "metadata": {},
     "output_type": "execute_result"
    }
   ],
   "source": [
    "#labels\n",
    "reshaped_labels = labels.reshape(-1).detach().numpy()\n",
    "reshaped_labels_wo_zero = reshaped_labels[reshaped_labels>0]\n",
    "reshaped_labels_wo_zero.shape"
   ]
  },
  {
   "cell_type": "code",
   "execution_count": 62,
   "metadata": {},
   "outputs": [
    {
     "data": {
      "image/png": "[encoded data removed]",
      "text/plain": [
       "<Figure size 432x288 with 1 Axes>"
      ]
     },
     "metadata": {
      "needs_background": "light"
     },
     "output_type": "display_data"
    }
   ],
   "source": [
    "#print(X_tsne[:,0])\n",
    "for i in range(X_tsne.shape[0]):\n",
    "#     dist = np.sum((X_tsne[i] - shown_images) ** 2, 1)\n",
    "#             if np.min(dist) < 4e-3:\n",
    "#                 # don't show points that are too close\n",
    "#                 continue\n",
    "    plt.text(X_tsne[i, 0], X_tsne[i, 1], str(reshaped_labels_wo_zero[i]),\n",
    "             color=plt.cm.Set1(reshaped_labels_wo_zero[i] / 100.),\n",
    "             fontdict={'weight': 'bold', 'size': 9})\n",
    "plt.scatter(X_tsne[:,0],X_tsne[:,1])\n",
    "plt.title('t-SNE visualization of test data')\n",
    "plt.show()"
   ]
  },
  {
   "cell_type": "code",
   "execution_count": null,
   "metadata": {},
   "outputs": [],
   "source": []
  },
  {
   "cell_type": "code",
   "execution_count": null,
   "metadata": {},
   "outputs": [],
   "source": []
  },
  {
   "cell_type": "code",
   "execution_count": null,
   "metadata": {},
   "outputs": [],
   "source": []
  },
  {
   "cell_type": "code",
   "execution_count": null,
   "metadata": {},
   "outputs": [],
   "source": []
  }
 ],
 "metadata": {
  "kernelspec": {
   "display_name": "Python 3",
   "language": "python",
   "name": "python3"
  },
  "language_info": {
   "codemirror_mode": {
    "name": "ipython",
    "version": 3
   },
   "file_extension": ".py",
   "mimetype": "text/x-python",
   "name": "python",
   "nbconvert_exporter": "python",
   "pygments_lexer": "ipython3",
   "version": "3.7.1"
  }
 },
 "nbformat": 4,
 "nbformat_minor": 2
}
